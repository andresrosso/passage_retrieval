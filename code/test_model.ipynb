{
 "cells": [
  {
   "cell_type": "code",
   "execution_count": 15,
   "metadata": {
    "collapsed": false
   },
   "outputs": [],
   "source": [
    "import QAData\n",
    "from os import listdir\n",
    "from os.path import isfile, join\n",
    "import PassageRetrieval as pr\n",
    "from json2html import *\n",
    "import matplotlib\n",
    "#matplotlib.use('Agg')\n",
    "import pylab as plt\n",
    "import nlp_utils\n",
    "import time\n",
    "import os\n",
    "import json\n",
    "import logging\n",
    "from json_utils import JSONConnector\n",
    "from QAData import DataSetFactory\n",
    "import models as models\n",
    "logger = logging.getLogger()\n",
    "logger.setLevel(logging.INFO)"
   ]
  },
  {
   "cell_type": "code",
   "execution_count": 4,
   "metadata": {
    "collapsed": true
   },
   "outputs": [],
   "source": [
    "w2v_path = '/home/aerossom/datasets/word2vect/GoogleNews-vectors-negative300.bin'\n",
    "w2v_util = nlp_utils.Word2vectUtils(w2v_path)"
   ]
  },
  {
   "cell_type": "code",
   "execution_count": 22,
   "metadata": {
    "collapsed": false
   },
   "outputs": [],
   "source": [
    "ds = DataSetFactory.loadDataSet('WikiQADataSet')\n",
    "qa_pair = {}\n",
    "qa_pair['train'] = ds.build_qa_pairs(ds.questions['train'])\n",
    "qa_pair['validate'] = ds.build_qa_pairs(ds.questions['validate'])\n",
    "qa_pair['test'] = ds.build_qa_pairs(ds.questions['test'])"
   ]
  },
  {
   "cell_type": "code",
   "execution_count": 23,
   "metadata": {
    "collapsed": false
   },
   "outputs": [],
   "source": [
    "js = JSONConnector('/home/aerossom/passage-retrieval/conf_experiments/bkp/params.json')\n",
    "model_params = {\"w2v\": w2v_util, \"runid\":'test_run',  \"params\":js.data }\n",
    "p_model = models.PassRtvModelFactory.load_model('KerasLstmModel_2','KerasLstmModel_2',model_params)"
   ]
  },
  {
   "cell_type": "code",
   "execution_count": 24,
   "metadata": {
    "collapsed": false
   },
   "outputs": [
    {
     "name": "stdout",
     "output_type": "stream",
     "text": [
      "____________________________________________________________________________________________________\n",
      "Layer (type)                     Output Shape          Param #     Connected to                     \n",
      "====================================================================================================\n",
      "input_7 (InputLayer)             (None, 100, 300)      0                                            \n",
      "____________________________________________________________________________________________________\n",
      "input_8 (InputLayer)             (None, 100, 300)      0                                            \n",
      "____________________________________________________________________________________________________\n",
      "lstm_3 (LSTM)                    (None, 256)           570368      input_7[0][0]                    \n",
      "                                                                   input_8[0][0]                    \n",
      "____________________________________________________________________________________________________\n",
      "merge_5 (Merge)                  (None, 512)           0           lstm_3[0][0]                     \n",
      "                                                                   lstm_3[1][0]                     \n",
      "____________________________________________________________________________________________________\n",
      "input_9 (InputLayer)             (None, 300)           0                                            \n",
      "____________________________________________________________________________________________________\n",
      "dense_11 (Dense)                 (None, 128)           65664       merge_5[0][0]                    \n",
      "____________________________________________________________________________________________________\n",
      "dense_12 (Dense)                 (None, 128)           38528       input_9[0][0]                    \n",
      "____________________________________________________________________________________________________\n",
      "merge_6 (Merge)                  (None, 256)           0           dense_11[0][0]                   \n",
      "                                                                   dense_12[0][0]                   \n",
      "____________________________________________________________________________________________________\n",
      "dense_13 (Dense)                 (None, 64)            16448       merge_6[0][0]                    \n",
      "____________________________________________________________________________________________________\n",
      "dropout_3 (Dropout)              (None, 64)            0           dense_13[0][0]                   \n",
      "____________________________________________________________________________________________________\n",
      "dense_14 (Dense)                 (None, 32)            2080        dropout_3[0][0]                  \n",
      "____________________________________________________________________________________________________\n",
      "dense_15 (Dense)                 (None, 1)             33          dense_14[0][0]                   \n",
      "====================================================================================================\n",
      "Total params: 693121\n",
      "____________________________________________________________________________________________________\n",
      "None\n",
      "Epoch 1/5\n",
      "Epoch 00000: val_loss improved from inf to 0.49939, saving model to /home/aerossom/passage-retrieval/experiments/working_files/keras_lstm_test_run_best.hdf5\n",
      "500/500 [==============================] - 11s - loss: 0.4983 - acc: 0.5000 - val_loss: 0.4994 - val_acc: 0.5000\n",
      "Epoch 2/5\n",
      "Epoch 00001: val_loss improved from 0.49939 to 0.49864, saving model to /home/aerossom/passage-retrieval/experiments/working_files/keras_lstm_test_run_best.hdf5\n",
      "500/500 [==============================] - 5s - loss: 0.4958 - acc: 0.4980 - val_loss: 0.4986 - val_acc: 0.5000\n",
      "Epoch 3/5\n",
      "Epoch 00002: val_loss improved from 0.49864 to 0.49800, saving model to /home/aerossom/passage-retrieval/experiments/working_files/keras_lstm_test_run_best.hdf5\n",
      "500/500 [==============================] - 8s - loss: 0.4973 - acc: 0.5020 - val_loss: 0.4980 - val_acc: 0.5000\n",
      "Epoch 4/5\n",
      "Epoch 00003: val_loss improved from 0.49800 to 0.49421, saving model to /home/aerossom/passage-retrieval/experiments/working_files/keras_lstm_test_run_best.hdf5\n",
      "500/500 [==============================] - 6s - loss: 0.4907 - acc: 0.5160 - val_loss: 0.4942 - val_acc: 0.5400\n",
      "Epoch 5/5\n",
      "Epoch 00004: val_loss did not improve\n",
      "500/500 [==============================] - 6s - loss: 0.4911 - acc: 0.5220 - val_loss: 0.4942 - val_acc: 0.5200\n"
     ]
    }
   ],
   "source": [
    "history = p_model.train(ds, qa_pair)"
   ]
  },
  {
   "cell_type": "code",
   "execution_count": null,
   "metadata": {
    "collapsed": true
   },
   "outputs": [],
   "source": []
  },
  {
   "cell_type": "code",
   "execution_count": null,
   "metadata": {
    "collapsed": true
   },
   "outputs": [],
   "source": []
  }
 ],
 "metadata": {
  "kernelspec": {
   "display_name": "Python 2 ARM",
   "language": "python",
   "name": "py2-arm"
  },
  "language_info": {
   "codemirror_mode": {
    "name": "ipython",
    "version": 2
   },
   "file_extension": ".py",
   "mimetype": "text/x-python",
   "name": "python",
   "nbconvert_exporter": "python",
   "pygments_lexer": "ipython2",
   "version": "2.7.12"
  }
 },
 "nbformat": 4,
 "nbformat_minor": 0
}
