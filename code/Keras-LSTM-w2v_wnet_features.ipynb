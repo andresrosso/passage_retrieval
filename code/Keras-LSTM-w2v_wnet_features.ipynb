{
 "cells": [
  {
   "cell_type": "code",
   "execution_count": 1,
   "metadata": {
    "collapsed": false
   },
   "outputs": [
    {
     "name": "stderr",
     "output_type": "stream",
     "text": [
      "Using gpu device 0: GeForce GTX TITAN X (CNMeM is disabled, cuDNN 5103)\n",
      "Using Theano backend.\n"
     ]
    }
   ],
   "source": [
    "import wikiqahelper\n",
    "import wordrepresentation\n",
    "import data_stats\n",
    "from wikiqahelper import load_questions_from_file\n",
    "from gensim.parsing.preprocessing import STOPWORDS\n",
    "from gensim.utils import tokenize\n",
    "import numpy as np\n",
    "from keras.engine import Input\n",
    "from keras.layers import LSTM, SimpleRNN, GRU, Dense, Dropout, Activation, Embedding, Input, merge\n",
    "from keras.models import Model, Sequential\n",
    "from keras.callbacks import ModelCheckpoint, EarlyStopping\n",
    "from gensim.models import Doc2Vec\n",
    "from gensim.models import Word2Vec\n",
    "from nltk.corpus import wordnet as wn\n",
    "import matplotlib.pyplot as plt\n",
    "import numpy as np\n",
    "import sys\n",
    "import logging\n",
    "from scipy import spatial\n",
    "%matplotlib inline"
   ]
  },
  {
   "cell_type": "code",
   "execution_count": 2,
   "metadata": {
    "collapsed": true
   },
   "outputs": [],
   "source": [
    "#name used to generate treceval file and checkpoint\n",
    "filename = 'Keras-LSTM-w2v_wnet_features.rank'\n",
    "weights  = 'weights-best-kmf.hdf5'\n",
    "\n",
    "logger = logging.getLogger()\n",
    "logger.setLevel(logging.INFO)"
   ]
  },
  {
   "cell_type": "code",
   "execution_count": 3,
   "metadata": {
    "collapsed": true
   },
   "outputs": [],
   "source": [
    "def load_w2v():\n",
    "    _fname = \"GoogleNews-vectors-negative300.bin\"\n",
    "    w2vModel = Doc2Vec.load_word2vec_format(_fname, binary=True)\n",
    "    return w2vModel "
   ]
  },
  {
   "cell_type": "code",
   "execution_count": 4,
   "metadata": {
    "collapsed": false
   },
   "outputs": [],
   "source": [
    "w2v = load_w2v()"
   ]
  },
  {
   "cell_type": "code",
   "execution_count": 5,
   "metadata": {
    "collapsed": false
   },
   "outputs": [],
   "source": [
    "def word2vectSimilarity(list1, list2, w2v_model):\n",
    "    sum_list1 = np.zeros(300)\n",
    "    sum_list2 = np.zeros(300)\n",
    "    mult_vector = np.ones(300)\n",
    "    for wq in list1:\n",
    "        try:\n",
    "            sum_list1 += w2v_model[wq]\n",
    "        except Exception as e:\n",
    "            logger.debug(\"Word not in word2vect vocabulary \"+wq)\n",
    "    for aq in list2: \n",
    "        try:\n",
    "            sum_list2 += w2v_model[aq]\n",
    "        except Exception as e:\n",
    "            logger.debug(\"Word not in word2vect vocabulary \"+aq)\n",
    "    #print len(sum_list1), len(sum_list2)\n",
    "    #result = spatial.distance.cosine(sum_list1, sum_list2)\n",
    "    #result = np.multiply(sum_list1, sum_list2)\n",
    "    #result = np.concatenate((sum_list1, sum_list2, np.multiply(sum_list1, sum_list2)))\n",
    "    result = np.concatenate((sum_list1, sum_list2))\n",
    "    return result"
   ]
  },
  {
   "cell_type": "code",
   "execution_count": 6,
   "metadata": {
    "collapsed": false
   },
   "outputs": [],
   "source": [
    "#print word2vectSimilarity(['sky','dog','window', 'material'],['the','car','is', 'red'],w2v)"
   ]
  },
  {
   "cell_type": "code",
   "execution_count": 7,
   "metadata": {
    "collapsed": true
   },
   "outputs": [],
   "source": [
    "def buildQAPairs(dataset):\n",
    "    #Construct Question Answer Pairs\n",
    "    questions_answer_pairs = []\n",
    "\n",
    "    for k, test_q_k in enumerate(dataset):\n",
    "        q = test_q_k.question\n",
    "        for i, a_i in enumerate(test_q_k.answers):\n",
    "            is_correct = 1 if i in test_q_k.correct_answer else 0\n",
    "            questions_answer_pairs += [(q, a_i, is_correct)]\n",
    "    return questions_answer_pairs"
   ]
  },
  {
   "cell_type": "code",
   "execution_count": 8,
   "metadata": {
    "collapsed": true
   },
   "outputs": [],
   "source": [
    "def prepoSentence(s):\n",
    "    terms = tokenize(s)\n",
    "    terms = [word for word in terms ]#if word not in STOPWORDS]\n",
    "    return terms\n",
    "    \n",
    "def getWord2Vect(qaPair, MAX_WORDS=50):\n",
    "    question = prepoSentence(qaPair[0])\n",
    "    answer = prepoSentence(qaPair[1])\n",
    "    q_vect = []\n",
    "    a_vect = []\n",
    "    for i in range(MAX_WORDS):\n",
    "        q_vect.append(w2v[question[i]] if len(question)>i and question[i] in w2v else np.zeros(300))\n",
    "        a_vect.append(w2v[answer[i]] if len(answer)>i and answer[i] in w2v else np.zeros(300))\n",
    "    #label = [1,0] if qaPair[2] == 1 else [0,1]\n",
    "    label = qaPair[2]\n",
    "    return q_vect, a_vect, label"
   ]
  },
  {
   "cell_type": "code",
   "execution_count": 9,
   "metadata": {
    "collapsed": false
   },
   "outputs": [],
   "source": [
    "#Construct Training dataset \n",
    "questions = {}\n",
    "questions['train'], vocabulary, idf = load_questions_from_file('train', -1)\n",
    "questions['validate'], vocabulary, idf = load_questions_from_file('validate', -1)\n",
    "questions['test'], vocabulary, idf = load_questions_from_file('test', -1)\n",
    "#Get train qa pairs\n",
    "train_questions_answer_pairs = buildQAPairs(questions['train'])\n",
    "test_questions_answer_pairs = buildQAPairs(questions['test'])\n",
    "validate_questions_answer_pairs = buildQAPairs(questions['validate'])"
   ]
  },
  {
   "cell_type": "code",
   "execution_count": 15,
   "metadata": {
    "collapsed": false
   },
   "outputs": [
    {
     "name": "stdout",
     "output_type": "stream",
     "text": [
      "140\n"
     ]
    }
   ],
   "source": [
    "print sum([1 for qa in validate_questions_answer_pairs if qa[2]==1])"
   ]
  },
  {
   "cell_type": "code",
   "execution_count": 16,
   "metadata": {
    "collapsed": false
   },
   "outputs": [
    {
     "name": "stdout",
     "output_type": "stream",
     "text": [
      "2576\n"
     ]
    }
   ],
   "source": [
    "print sum([1 for qa in validate_questions_answer_pairs if qa[2]==0])"
   ]
  },
  {
   "cell_type": "code",
   "execution_count": 14,
   "metadata": {
    "collapsed": false
   },
   "outputs": [
    {
     "data": {
      "text/plain": [
       "2117"
      ]
     },
     "execution_count": 14,
     "metadata": {},
     "output_type": "execute_result"
    }
   ],
   "source": [
    "len(questions['train'])"
   ]
  },
  {
   "cell_type": "code",
   "execution_count": 39,
   "metadata": {
    "collapsed": false
   },
   "outputs": [
    {
     "data": {
      "text/plain": [
       "(u'how are glacier caves formed ?',\n",
       " u'A partly submerged glacier cave on Perito Moreno Glacier .',\n",
       " 0)"
      ]
     },
     "execution_count": 39,
     "metadata": {},
     "output_type": "execute_result"
    }
   ],
   "source": [
    "train_questions_answer_pairs[0]"
   ]
  },
  {
   "cell_type": "code",
   "execution_count": 40,
   "metadata": {
    "collapsed": false
   },
   "outputs": [
    {
     "data": {
      "text/plain": [
       "\"\\nfor i, p in enumerate(train_questions_answer_pairs):\\n    #p = train_questions_answer_pairs[500]\\n    r = word2vectSimilarity(prepoSentence(p[0]),prepoSentence(p[1]),w2v)\\n    print i, ' ---> ',r,p[2]\\n\""
      ]
     },
     "execution_count": 40,
     "metadata": {},
     "output_type": "execute_result"
    }
   ],
   "source": [
    "'''\n",
    "for i, p in enumerate(train_questions_answer_pairs):\n",
    "    #p = train_questions_answer_pairs[500]\n",
    "    r = word2vectSimilarity(prepoSentence(p[0]),prepoSentence(p[1]),w2v)\n",
    "    print i, ' ---> ',r,p[2]\n",
    "'''\n",
    "#train_questions_answer_pairs[1033]\n",
    "#print word2vectSimilarity(prepoSentence(pair[0]),prepoSentence(pair[0]),w2v)\n",
    "#print word2vectSimilarity(['bicycle'],['bike'],w2v)\n",
    "#pair\n",
    "#print set(prepoSentence(pair[0])) | set(prepoSentence(pair[1])) \n",
    "#len(set(list1) | set(list2))< (len(set(list1))+len(set(list2))):\n",
    "#print word2vectSimilarity(prepoSentence(p[0]),prepoSentence(p[1]),w2v)"
   ]
  },
  {
   "cell_type": "code",
   "execution_count": 41,
   "metadata": {
    "collapsed": false
   },
   "outputs": [],
   "source": [
    "#load w2vect - wnet features\n",
    "train_questions_answer_pairs = [ (list(pair),word2vectSimilarity(prepoSentence(pair[0]),prepoSentence(pair[1]),w2v)) \\\n",
    "                            for i, pair in enumerate(train_questions_answer_pairs) ]\n",
    "test_questions_answer_pairs = [ (list(pair),word2vectSimilarity(prepoSentence(pair[0]),prepoSentence(pair[1]),w2v)) \\\n",
    "                            for i, pair in enumerate(test_questions_answer_pairs) ]\n",
    "validate_questions_answer_pairs = [ (list(pair),word2vectSimilarity(prepoSentence(pair[0]),prepoSentence(pair[1]),w2v)) \\\n",
    "                            for i, pair in enumerate(validate_questions_answer_pairs) ]"
   ]
  },
  {
   "cell_type": "code",
   "execution_count": 42,
   "metadata": {
    "collapsed": false
   },
   "outputs": [],
   "source": [
    "#train_questions_answer_pairs[0]"
   ]
  },
  {
   "cell_type": "code",
   "execution_count": 43,
   "metadata": {
    "collapsed": false
   },
   "outputs": [],
   "source": [
    "q_bins = [ len(prepoSentence(t_qa[0][0])) for t_qa in train_questions_answer_pairs ]\n",
    "a_bins = [ len(prepoSentence(t_qa[0][1])) for t_qa in train_questions_answer_pairs ]"
   ]
  },
  {
   "cell_type": "code",
   "execution_count": 44,
   "metadata": {
    "collapsed": false
   },
   "outputs": [
    {
     "data": {
      "image/png": "[encoded data removed]",
      "text/plain": [
       "<matplotlib.figure.Figure at 0x7f5199cf6c90>"
      ]
     },
     "metadata": {},
     "output_type": "display_data"
    }
   ],
   "source": [
    "bins = np.linspace(0, 50, 100)\n",
    "plt.hist(q_bins, bins, alpha=0.5, label='Question lenght (train)')\n",
    "plt.hist(a_bins, bins, alpha=0.5, label='Answer lenght (train)')\n",
    "plt.legend()\n",
    "plt.show()"
   ]
  },
  {
   "cell_type": "code",
   "execution_count": 45,
   "metadata": {
    "collapsed": false
   },
   "outputs": [],
   "source": [
    "def generateXYBatches(validation=False, samples=2200, MAX_WORDS=50):\n",
    "    half_samples = samples/2\n",
    "    positiveSamples = [ q for q in train_questions_answer_pairs if q[0][2]==1 ]\n",
    "    negativeSamples = [ q for q in train_questions_answer_pairs if q[0][2]==0 ]\n",
    "    if validation:\n",
    "        positiveSamples = [ q for q in validate_questions_answer_pairs if q[0][2]==1 ]\n",
    "        negativeSamples = [ q for q in validate_questions_answer_pairs if q[0][2]==0 ]\n",
    "    while 1:\n",
    "        train_X1 = []\n",
    "        train_X2 = []\n",
    "        train_X3 = []\n",
    "        train_Y = []\n",
    "        rand_vector_pos = np.random.randint(0,len(positiveSamples),size=half_samples)\n",
    "        rand_vector_neg = np.random.randint(0,len(negativeSamples),size=half_samples)\n",
    "        X_pos = [ positiveSamples[i] for i in range(len(positiveSamples)) if i in rand_vector_pos]\n",
    "        X_neg = [ negativeSamples[i] for i in range(len(negativeSamples)) if i in rand_vector_neg]\n",
    "        for qa_pair in X_pos:\n",
    "            q_vect, a_vect, label = getWord2Vect(qa_pair[0], MAX_WORDS)\n",
    "            train_X1.append(q_vect)\n",
    "            train_X2.append(a_vect)\n",
    "            train_X3.append(qa_pair[1])\n",
    "            train_Y.append(label)\n",
    "        for qa_pair in X_neg:\n",
    "            q_vect, a_vect, label = getWord2Vect(qa_pair[0], MAX_WORDS)\n",
    "            train_X1.append(q_vect)\n",
    "            train_X2.append(a_vect)\n",
    "            train_X3.append(qa_pair[1])\n",
    "            train_Y.append(label)\n",
    "        train_X1 = np.array(train_X1)\n",
    "        train_X2 = np.array(train_X2)\n",
    "        train_X3 = np.array(train_X3)\n",
    "        #train_X  = np.sum([train_X1,train_X2],axis=0)\n",
    "        train_Y = np.array(train_Y)\n",
    "        #X = X_pos + X_neg\n",
    "        #train_q, train_a, train_l = wikiqa_model.buildWord2VectMatrix(X)\n",
    "        #q_vect, a_vect, label = getWord2Vect(qa_pair)\n",
    "        print \"   Samples generated = \", len(train_X1), '  -  Validation(',validation, ')'\n",
    "        #yield (train_X, train_Y)\n",
    "        yield ([train_X1, train_X2, train_X3], train_Y)"
   ]
  },
  {
   "cell_type": "code",
   "execution_count": 61,
   "metadata": {
    "collapsed": false
   },
   "outputs": [
    {
     "name": "stdout",
     "output_type": "stream",
     "text": [
      "____________________________________________________________________________________________________\n",
      "Layer (type)                     Output Shape          Param #     Connected to                     \n",
      "====================================================================================================\n",
      "input_16 (InputLayer)            (None, 50, 300)       0                                            \n",
      "____________________________________________________________________________________________________\n",
      "input_17 (InputLayer)            (None, 50, 300)       0                                            \n",
      "____________________________________________________________________________________________________\n",
      "lstm_6 (LSTM)                    (None, 64)            93440       input_16[0][0]                   \n",
      "                                                                   input_17[0][0]                   \n",
      "____________________________________________________________________________________________________\n",
      "merge_11 (Merge)                 (None, 128)           0           lstm_6[0][0]                     \n",
      "                                                                   lstm_6[1][0]                     \n",
      "____________________________________________________________________________________________________\n",
      "input_18 (InputLayer)            (None, 600)           0                                            \n",
      "____________________________________________________________________________________________________\n",
      "dense_26 (Dense)                 (None, 32)            4128        merge_11[0][0]                   \n",
      "____________________________________________________________________________________________________\n",
      "dense_27 (Dense)                 (None, 32)            19232       input_18[0][0]                   \n",
      "____________________________________________________________________________________________________\n",
      "merge_12 (Merge)                 (None, 64)            0           dense_26[0][0]                   \n",
      "                                                                   dense_27[0][0]                   \n",
      "____________________________________________________________________________________________________\n",
      "dense_28 (Dense)                 (None, 64)            4160        merge_12[0][0]                   \n",
      "____________________________________________________________________________________________________\n",
      "dropout_6 (Dropout)              (None, 64)            0           dense_28[0][0]                   \n",
      "____________________________________________________________________________________________________\n",
      "dense_29 (Dense)                 (None, 32)            2080        dropout_6[0][0]                  \n",
      "____________________________________________________________________________________________________\n",
      "dense_30 (Dense)                 (None, 1)             33          dense_29[0][0]                   \n",
      "====================================================================================================\n",
      "Total params: 123073\n",
      "____________________________________________________________________________________________________\n"
     ]
    }
   ],
   "source": [
    "timesteps = 50\n",
    "question_input = Input(shape=(timesteps, 300))\n",
    "answer_input = Input(shape=(timesteps, 300))\n",
    "w2v_cos_distance = Input(shape=(600,))\n",
    "shared_lstm = LSTM(64)\n",
    "encoded_q = shared_lstm(question_input)\n",
    "encoded_a = shared_lstm(answer_input)\n",
    "merged_vector = merge([encoded_q, encoded_a], mode='concat', concat_axis=-1)\n",
    "sim = Dense(32, activation='sigmoid')(merged_vector)\n",
    "sim_w2v = Dense(32, activation='sigmoid')(w2v_cos_distance)\n",
    "merged_vector_2 = merge([sim, sim_w2v], mode='concat', concat_axis=-1)\n",
    "sim2 = Dense(64, activation='sigmoid')(merged_vector_2)\n",
    "drop = Dropout(0.2)(sim2)\n",
    "sim3 = Dense(32, activation='sigmoid')(drop)\n",
    "predictions = Dense(1, activation='sigmoid')(sim3)\n",
    "\n",
    "# If it is necessary to load the best pretrained weights\n",
    "# model.load_weights(\"check-points/\"+filename+\"-weights-best.hdf5\")\n",
    "\n",
    "model = Model(input=[question_input, answer_input,w2v_cos_distance], output=predictions)\n",
    "\n",
    "model.compile(optimizer='rmsprop',\n",
    "              loss=\"binary_crossentropy\",# kullback_leibler_divergence mean_squared_error\n",
    "              metrics=['accuracy'])\n",
    "\n",
    "model.summary()"
   ]
  },
  {
   "cell_type": "code",
   "execution_count": 62,
   "metadata": {
    "collapsed": false
   },
   "outputs": [
    {
     "data": {
      "image/svg+xml": [
       "<svg height=\"638pt\" viewBox=\"0.00 0.00 368.00 638.00\" width=\"368pt\" xmlns=\"http://www.w3.org/2000/svg\" xmlns:xlink=\"http://www.w3.org/1999/xlink\">\n",
       "<g class=\"graph\" id=\"graph0\" transform=\"scale(1 1) rotate(0) translate(4 634)\">\n",
       "<title>G</title>\n",
       "<polygon fill=\"white\" points=\"-4,4 -4,-634 364,-634 364,4 -4,4\" stroke=\"none\"/>\n",
       "<!-- 139989970098832 -->\n",
       "<g class=\"node\" id=\"node1\"><title>139989970098832</title>\n",
       "<polygon fill=\"none\" points=\"-0.5,-593 -0.5,-629 136.5,-629 136.5,-593 -0.5,-593\" stroke=\"black\"/>\n",
       "<text font-family=\"Times,serif\" font-size=\"14.00\" text-anchor=\"middle\" x=\"68\" y=\"-607.3\">input_16 (InputLayer)</text>\n",
       "</g>\n",
       "<!-- 139989970100048 -->\n",
       "<g class=\"node\" id=\"node3\"><title>139989970100048</title>\n",
       "<polygon fill=\"none\" points=\"93,-519 93,-555 197,-555 197,-519 93,-519\" stroke=\"black\"/>\n",
       "<text font-family=\"Times,serif\" font-size=\"14.00\" text-anchor=\"middle\" x=\"145\" y=\"-533.3\">lstm_6 (LSTM)</text>\n",
       "</g>\n",
       "<!-- 139989970098832&#45;&gt;139989970100048 -->\n",
       "<g class=\"edge\" id=\"edge1\"><title>139989970098832-&gt;139989970100048</title>\n",
       "<path d=\"M86.2479,-592.937C96.0534,-583.768 108.309,-572.308 119.086,-562.231\" fill=\"none\" stroke=\"black\"/>\n",
       "<polygon fill=\"black\" points=\"121.702,-564.576 126.616,-555.19 116.921,-559.464 121.702,-564.576\" stroke=\"black\"/>\n",
       "</g>\n",
       "<!-- 139989970098960 -->\n",
       "<g class=\"node\" id=\"node2\"><title>139989970098960</title>\n",
       "<polygon fill=\"none\" points=\"154.5,-593 154.5,-629 291.5,-629 291.5,-593 154.5,-593\" stroke=\"black\"/>\n",
       "<text font-family=\"Times,serif\" font-size=\"14.00\" text-anchor=\"middle\" x=\"223\" y=\"-607.3\">input_17 (InputLayer)</text>\n",
       "</g>\n",
       "<!-- 139989970098960&#45;&gt;139989970100048 -->\n",
       "<g class=\"edge\" id=\"edge2\"><title>139989970098960-&gt;139989970100048</title>\n",
       "<path d=\"M204.515,-592.937C194.582,-583.768 182.167,-572.308 171.25,-562.231\" fill=\"none\" stroke=\"black\"/>\n",
       "<polygon fill=\"black\" points=\"173.345,-559.401 163.623,-555.19 168.597,-564.545 173.345,-559.401\" stroke=\"black\"/>\n",
       "</g>\n",
       "<!-- 139988385331088 -->\n",
       "<g class=\"node\" id=\"node4\"><title>139988385331088</title>\n",
       "<polygon fill=\"none\" points=\"85,-445 85,-481 205,-481 205,-445 85,-445\" stroke=\"black\"/>\n",
       "<text font-family=\"Times,serif\" font-size=\"14.00\" text-anchor=\"middle\" x=\"145\" y=\"-459.3\">merge_11 (Merge)</text>\n",
       "</g>\n",
       "<!-- 139989970100048&#45;&gt;139988385331088 -->\n",
       "<g class=\"edge\" id=\"edge3\"><title>139989970100048-&gt;139988385331088</title>\n",
       "<path d=\"M145,-518.937C145,-510.807 145,-500.876 145,-491.705\" fill=\"none\" stroke=\"black\"/>\n",
       "<polygon fill=\"black\" points=\"148.5,-491.441 145,-481.441 141.5,-491.441 148.5,-491.441\" stroke=\"black\"/>\n",
       "</g>\n",
       "<!-- 139988394897680 -->\n",
       "<g class=\"node\" id=\"node6\"><title>139988394897680</title>\n",
       "<polygon fill=\"none\" points=\"95,-371 95,-407 209,-407 209,-371 95,-371\" stroke=\"black\"/>\n",
       "<text font-family=\"Times,serif\" font-size=\"14.00\" text-anchor=\"middle\" x=\"152\" y=\"-385.3\">dense_26 (Dense)</text>\n",
       "</g>\n",
       "<!-- 139988385331088&#45;&gt;139988394897680 -->\n",
       "<g class=\"edge\" id=\"edge5\"><title>139988385331088-&gt;139988394897680</title>\n",
       "<path d=\"M146.659,-444.937C147.458,-436.719 148.436,-426.66 149.336,-417.406\" fill=\"none\" stroke=\"black\"/>\n",
       "<polygon fill=\"black\" points=\"152.82,-417.732 150.304,-407.441 145.853,-417.055 152.82,-417.732\" stroke=\"black\"/>\n",
       "</g>\n",
       "<!-- 139989970098128 -->\n",
       "<g class=\"node\" id=\"node5\"><title>139989970098128</title>\n",
       "<polygon fill=\"none\" points=\"223.5,-445 223.5,-481 360.5,-481 360.5,-445 223.5,-445\" stroke=\"black\"/>\n",
       "<text font-family=\"Times,serif\" font-size=\"14.00\" text-anchor=\"middle\" x=\"292\" y=\"-459.3\">input_18 (InputLayer)</text>\n",
       "</g>\n",
       "<!-- 139988395444624 -->\n",
       "<g class=\"node\" id=\"node7\"><title>139988395444624</title>\n",
       "<polygon fill=\"none\" points=\"231,-371 231,-407 345,-407 345,-371 231,-371\" stroke=\"black\"/>\n",
       "<text font-family=\"Times,serif\" font-size=\"14.00\" text-anchor=\"middle\" x=\"288\" y=\"-385.3\">dense_27 (Dense)</text>\n",
       "</g>\n",
       "<!-- 139989970098128&#45;&gt;139988395444624 -->\n",
       "<g class=\"edge\" id=\"edge6\"><title>139989970098128-&gt;139988395444624</title>\n",
       "<path d=\"M291.052,-444.937C290.6,-436.807 290.049,-426.876 289.539,-417.705\" fill=\"none\" stroke=\"black\"/>\n",
       "<polygon fill=\"black\" points=\"293.018,-417.231 288.969,-407.441 286.029,-417.619 293.018,-417.231\" stroke=\"black\"/>\n",
       "</g>\n",
       "<!-- 139988394639120 -->\n",
       "<g class=\"node\" id=\"node8\"><title>139988394639120</title>\n",
       "<polygon fill=\"none\" points=\"160,-297 160,-333 280,-333 280,-297 160,-297\" stroke=\"black\"/>\n",
       "<text font-family=\"Times,serif\" font-size=\"14.00\" text-anchor=\"middle\" x=\"220\" y=\"-311.3\">merge_12 (Merge)</text>\n",
       "</g>\n",
       "<!-- 139988394897680&#45;&gt;139988394639120 -->\n",
       "<g class=\"edge\" id=\"edge7\"><title>139988394897680-&gt;139988394639120</title>\n",
       "<path d=\"M168.115,-370.937C176.628,-361.924 187.232,-350.696 196.63,-340.744\" fill=\"none\" stroke=\"black\"/>\n",
       "<polygon fill=\"black\" points=\"199.207,-343.114 203.528,-333.441 194.117,-338.308 199.207,-343.114\" stroke=\"black\"/>\n",
       "</g>\n",
       "<!-- 139988395444624&#45;&gt;139988394639120 -->\n",
       "<g class=\"edge\" id=\"edge8\"><title>139988395444624-&gt;139988394639120</title>\n",
       "<path d=\"M271.885,-370.937C263.372,-361.924 252.768,-350.696 243.37,-340.744\" fill=\"none\" stroke=\"black\"/>\n",
       "<polygon fill=\"black\" points=\"245.883,-338.308 236.472,-333.441 240.793,-343.114 245.883,-338.308\" stroke=\"black\"/>\n",
       "</g>\n",
       "<!-- 139988394650064 -->\n",
       "<g class=\"node\" id=\"node9\"><title>139988394650064</title>\n",
       "<polygon fill=\"none\" points=\"163,-223 163,-259 277,-259 277,-223 163,-223\" stroke=\"black\"/>\n",
       "<text font-family=\"Times,serif\" font-size=\"14.00\" text-anchor=\"middle\" x=\"220\" y=\"-237.3\">dense_28 (Dense)</text>\n",
       "</g>\n",
       "<!-- 139988394639120&#45;&gt;139988394650064 -->\n",
       "<g class=\"edge\" id=\"edge9\"><title>139988394639120-&gt;139988394650064</title>\n",
       "<path d=\"M220,-296.937C220,-288.807 220,-278.876 220,-269.705\" fill=\"none\" stroke=\"black\"/>\n",
       "<polygon fill=\"black\" points=\"223.5,-269.441 220,-259.441 216.5,-269.441 223.5,-269.441\" stroke=\"black\"/>\n",
       "</g>\n",
       "<!-- 139988394898448 -->\n",
       "<g class=\"node\" id=\"node10\"><title>139988394898448</title>\n",
       "<polygon fill=\"none\" points=\"155,-149 155,-185 285,-185 285,-149 155,-149\" stroke=\"black\"/>\n",
       "<text font-family=\"Times,serif\" font-size=\"14.00\" text-anchor=\"middle\" x=\"220\" y=\"-163.3\">dropout_6 (Dropout)</text>\n",
       "</g>\n",
       "<!-- 139988394650064&#45;&gt;139988394898448 -->\n",
       "<g class=\"edge\" id=\"edge10\"><title>139988394650064-&gt;139988394898448</title>\n",
       "<path d=\"M220,-222.937C220,-214.807 220,-204.876 220,-195.705\" fill=\"none\" stroke=\"black\"/>\n",
       "<polygon fill=\"black\" points=\"223.5,-195.441 220,-185.441 216.5,-195.441 223.5,-195.441\" stroke=\"black\"/>\n",
       "</g>\n",
       "<!-- 139988394901200 -->\n",
       "<g class=\"node\" id=\"node11\"><title>139988394901200</title>\n",
       "<polygon fill=\"none\" points=\"163,-75 163,-111 277,-111 277,-75 163,-75\" stroke=\"black\"/>\n",
       "<text font-family=\"Times,serif\" font-size=\"14.00\" text-anchor=\"middle\" x=\"220\" y=\"-89.3\">dense_29 (Dense)</text>\n",
       "</g>\n",
       "<!-- 139988394898448&#45;&gt;139988394901200 -->\n",
       "<g class=\"edge\" id=\"edge11\"><title>139988394898448-&gt;139988394901200</title>\n",
       "<path d=\"M220,-148.937C220,-140.807 220,-130.876 220,-121.705\" fill=\"none\" stroke=\"black\"/>\n",
       "<polygon fill=\"black\" points=\"223.5,-121.441 220,-111.441 216.5,-121.441 223.5,-121.441\" stroke=\"black\"/>\n",
       "</g>\n",
       "<!-- 139988395268944 -->\n",
       "<g class=\"node\" id=\"node12\"><title>139988395268944</title>\n",
       "<polygon fill=\"none\" points=\"163,-1 163,-37 277,-37 277,-1 163,-1\" stroke=\"black\"/>\n",
       "<text font-family=\"Times,serif\" font-size=\"14.00\" text-anchor=\"middle\" x=\"220\" y=\"-15.3\">dense_30 (Dense)</text>\n",
       "</g>\n",
       "<!-- 139988394901200&#45;&gt;139988395268944 -->\n",
       "<g class=\"edge\" id=\"edge12\"><title>139988394901200-&gt;139988395268944</title>\n",
       "<path d=\"M220,-74.937C220,-66.8072 220,-56.8761 220,-47.7047\" fill=\"none\" stroke=\"black\"/>\n",
       "<polygon fill=\"black\" points=\"223.5,-47.4406 220,-37.4407 216.5,-47.4407 223.5,-47.4406\" stroke=\"black\"/>\n",
       "</g>\n",
       "</g>\n",
       "</svg>"
      ],
      "text/plain": [
       "<IPython.core.display.SVG object>"
      ]
     },
     "execution_count": 62,
     "metadata": {},
     "output_type": "execute_result"
    }
   ],
   "source": [
    "from IPython.display import SVG\n",
    "from keras.utils.visualize_util import model_to_dot\n",
    "\n",
    "SVG(model_to_dot(model).create(prog='dot', format='svg'))"
   ]
  },
  {
   "cell_type": "code",
   "execution_count": 65,
   "metadata": {
    "collapsed": false
   },
   "outputs": [],
   "source": [
    "# checkpoints\n",
    "filepath=\"check-points/\"+filename+\"-\"+weights\n",
    "#output the model weights each time an improvement is observed during training\n",
    "checkpoint = ModelCheckpoint(filepath, monitor='val_acc', verbose=1, save_best_only=True, mode='max')\n",
    "#stops if the model is not learning at any point\n",
    "earlyStopping=EarlyStopping(monitor='accuracy', patience=50, verbose=1, mode='auto')"
   ]
  },
  {
   "cell_type": "code",
   "execution_count": 66,
   "metadata": {
    "collapsed": false,
    "scrolled": true
   },
   "outputs": [
    {
     "name": "stdout",
     "output_type": "stream",
     "text": [
      "Epoch 1/500\n",
      "   Samples generated =  1736   -  Validation( False )\n",
      "   Samples generated =  1733   -  Validation( False )\n",
      "1736/2000 [=========================>....] - ETA: 0s - loss: 0.3358 - acc: 0.8727   Samples generated =  1748   -  Validation( False )\n",
      "   Samples generated =  1746   -  Validation( False )\n",
      "   Samples generated =  358   -  Validation( True )\n",
      "   Samples generated =  357   -  Validation( True )\n",
      "Epoch 00000: val_acc improved from -inf to 0.70350, saving model to check-points/Keras-LSTM-w2v_wnet_features.rank-weights-best-kmf.hdf5\n",
      "3469/2000 [====================================================] - 4s - loss: 0.3241 - acc: 0.8732 - val_loss: 0.7076 - val_acc: 0.7035\n",
      "Epoch 2/500\n",
      "   Samples generated =  361   -  Validation( True )\n"
     ]
    },
    {
     "name": "stderr",
     "output_type": "stream",
     "text": [
      "/home/aerossom/.conda/envs/py2/lib/python2.7/site-packages/keras/callbacks.py:358: RuntimeWarning: Early stopping requires accuracy available!\n",
      "  (self.monitor), RuntimeWarning)\n"
     ]
    },
    {
     "name": "stdout",
     "output_type": "stream",
     "text": [
      "   Samples generated =  1740   -  Validation( False )\n",
      "   Samples generated =  1732   -  Validation( False )\n",
      "1748/2000 [=========================>....] - ETA: 0s - loss: 0.3968 - acc: 0.8284   Samples generated =  1729   -  Validation( False )\n",
      "   Samples generated =  356   -  Validation( True )\n",
      "   Samples generated =  359   -  Validation( True )\n",
      "   Samples generated =  1740   -  Validation( False )\n",
      "   Samples generated =  357   -  Validation( True )\n",
      "Epoch 00001: val_acc did not improve\n",
      "3494/2000 [====================================================] - 3s - loss: 0.3781 - acc: 0.8363 - val_loss: 0.6888 - val_acc: 0.6965\n",
      "Epoch 3/500\n",
      "   Samples generated =  360   -  Validation( True )\n",
      "   Samples generated =  1751   -  Validation( False )\n",
      "1740/2000 [=========================>....] - ETA: 0s - loss: 0.3610 - acc: 0.8546   Samples generated =  1745   -  Validation( False )\n",
      "   Samples generated =  1755   -  Validation( False )\n",
      "   Samples generated =  355   -  Validation( True )\n",
      "   Samples generated =  346   -  Validation( True )\n",
      "   Samples generated =  360   -  Validation( True )\n",
      "Epoch 00002: val_acc did not improve\n",
      "3472/2000 [====================================================] - 4s - loss: 0.3571 - acc: 0.8525 - val_loss: 0.7084 - val_acc: 0.6690\n",
      "Epoch 4/500\n",
      "   Samples generated =  351   -  Validation( True )\n",
      "   Samples generated =  1758   -  Validation( False )\n",
      "   Samples generated =  1744   -  Validation( False )\n",
      "1729/2000 [========================>.....] - ETA: 0s - loss: 0.3908 - acc: 0.8253   Samples generated =  1742   -  Validation( False )\n",
      "   Samples generated =  356   -  Validation( True )\n",
      "   Samples generated =  1749   -  Validation( False )\n",
      "   Samples generated =  348   -  Validation( True )\n",
      "Epoch 00003: val_acc improved from 0.70350 to 0.74858, saving model to check-points/Keras-LSTM-w2v_wnet_features.rank-weights-best-kmf.hdf5\n",
      "   Samples generated =  350   -  Validation( True )\n",
      "3469/2000 [====================================================] - 4s - loss: 0.3701 - acc: 0.8406 - val_loss: 0.6820 - val_acc: 0.7486\n",
      "Epoch 5/500\n",
      "   Samples generated =  1750   -  Validation( False )\n",
      "1751/2000 [=========================>....] - ETA: 0s - loss: 0.3579 - acc: 0.8475   Samples generated =  1738   -  Validation( False )\n",
      "   Samples generated =  1771   -  Validation( False )\n",
      "   Samples generated =  359   -  Validation( True )\n",
      "   Samples generated =  360   -  Validation( True )\n",
      "   Samples generated =  359   -  Validation( True )\n",
      "Epoch 00004: val_acc did not improve\n",
      "3496/2000 [====================================================] - 4s - loss: 0.3910 - acc: 0.8249 - val_loss: 0.7153 - val_acc: 0.7010\n",
      "Epoch 6/500\n",
      "   Samples generated =  360   -  Validation( True )\n",
      "   Samples generated =  1744   -  Validation( False )\n",
      "   Samples generated =  1745   -  Validation( False )\n",
      "1755/2000 [=========================>....] - ETA: 0s - loss: 0.3545 - acc: 0.8558   Samples generated =  1729   -  Validation( False )\n",
      "   Samples generated =  1747   -  Validation( False )\n",
      "   Samples generated =  358   -  Validation( True )\n",
      "   Samples generated =  350   -  Validation( True )\n",
      "   Samples generated =  360   -  Validation( True )\n",
      "   Samples generated =  356   -  Validation( True )\n",
      "   Samples generated =  360   -  Validation( True )\n",
      "   Samples generated =  356   -  Validation( True )\n",
      "   Samples generated =  346   -  Validation( True )\n",
      "   Samples generated =  349   -  Validation( True )\n",
      "   Samples generated =  340   -  Validation( True )\n",
      "Epoch 00005: val_acc did not improve\n",
      "3513/2000 [====================================================] - 4s - loss: 0.3525 - acc: 0.8591 - val_loss: 0.6883 - val_acc: 0.7345\n",
      "Epoch 7/500\n",
      "   Samples generated =  353   -  Validation( True )\n",
      "   Samples generated =  1751   -  Validation( False )\n",
      "1744/2000 [=========================>....] - ETA: 0s - loss: 0.3129 - acc: 0.8813   Samples generated =  1755   -  Validation( False )\n",
      "   Samples generated =  347   -  Validation( True )\n",
      "   Samples generated =  358   -  Validation( True )\n",
      "   Samples generated =  351   -  Validation( True )\n",
      "   Samples generated =  359   -  Validation( True )\n",
      "   Samples generated =  360   -  Validation( True )\n",
      "   Samples generated =  365   -  Validation( True )\n",
      "Epoch 00006: val_acc did not improve\n",
      "3486/2000 [====================================================] - 3s - loss: 0.3195 - acc: 0.8784 - val_loss: 0.7449 - val_acc: 0.7220\n",
      "Epoch 8/500\n",
      "   Samples generated =  352   -  Validation( True )\n",
      "1749/2000 [=========================>....] - ETA: 0s - loss: 0.3708 - acc: 0.8468   Samples generated =  1732   -  Validation( False )\n",
      "   Samples generated =  1733   -  Validation( False )\n",
      "   Samples generated =  354   -  Validation( True )\n",
      "   Samples generated =  348   -  Validation( True )\n",
      "Epoch 00007: val_acc did not improve\n",
      "3499/2000 [====================================================] - 2s - loss: 0.4644 - acc: 0.7902 - val_loss: 0.6768 - val_acc: 0.7350\n",
      "Epoch 9/500\n",
      "   Samples generated =  357   -  Validation( True )\n",
      "1738/2000 [=========================>....] - ETA: 0s - loss: 0.3710 - acc: 0.8297   Samples generated =  1746   -  Validation( False )\n",
      "   Samples generated =  349   -  Validation( True )\n",
      "   Samples generated =  355   -  Validation( True )\n",
      "Epoch 00008: val_acc did not improve\n",
      "3509/2000 [====================================================] - 2s - loss: 0.3676 - acc: 0.8401 - val_loss: 0.6910 - val_acc: 0.7301\n",
      "Epoch 10/500\n",
      "1744/2000 [=========================>....] - ETA: 0s - loss: 0.3501 - acc: 0.8561   Samples generated =  358   -  Validation( True )\n",
      "   Samples generated =  1716   -  Validation( False )\n",
      "   Samples generated =  366   -  Validation( True )\n",
      "   Samples generated =  356   -  Validation( True )\n",
      "Epoch 00009: val_acc did not improve\n",
      "3489/2000 [====================================================] - 2s - loss: 0.3446 - acc: 0.8624 - val_loss: 0.7033 - val_acc: 0.7258\n",
      "Epoch 11/500\n",
      "   Samples generated =  358   -  Validation( True )\n",
      "1729/2000 [========================>.....] - ETA: 0s - loss: 0.3104 - acc: 0.8809   Samples generated =  1757   -  Validation( False )\n",
      "   Samples generated =  351   -  Validation( True )\n",
      "   Samples generated =  353   -  Validation( True )\n",
      "Epoch 00010: val_acc did not improve\n",
      "3476/2000 [====================================================] - 1s - loss: 0.3119 - acc: 0.8795 - val_loss: 0.6913 - val_acc: 0.7344\n",
      "Epoch 12/500\n",
      "   Samples generated =  352   -  Validation( True )\n",
      "1751/2000 [=========================>....] - ETA: 0s - loss: 0.3243 - acc: 0.8721   Samples generated =  1753   -  Validation( False )\n",
      "   Samples generated =  354   -  Validation( True )\n",
      "   Samples generated =  360   -  Validation( True )\n",
      "Epoch 00011: val_acc did not improve\n",
      "3506/2000 [====================================================] - 1s - loss: 0.3184 - acc: 0.8771 - val_loss: 0.7148 - val_acc: 0.6835\n",
      "Epoch 13/500\n",
      "   Samples generated =  351   -  Validation( True )\n",
      "1732/2000 [========================>.....] - ETA: 0s - loss: 0.4119 - acc: 0.8193   Samples generated =  1755   -  Validation( False )\n",
      "   Samples generated =  356   -  Validation( True )\n",
      "   Samples generated =  358   -  Validation( True )\n",
      "Epoch 00012: val_acc did not improve\n",
      "3465/2000 [===================================================] - 1s - loss: 0.4013 - acc: 0.8297 - val_loss: 0.6892 - val_acc: 0.7255\n",
      "Epoch 14/500\n",
      "   Samples generated =  354   -  Validation( True )\n",
      "1746/2000 [=========================>....] - ETA: 0s - loss: 0.3195 - acc: 0.8746   Samples generated =  1777   -  Validation( False )\n",
      "   Samples generated =  354   -  Validation( True )\n",
      "   Samples generated =  352   -  Validation( True )\n",
      "Epoch 00013: val_acc did not improve\n",
      "3462/2000 [===================================================] - 1s - loss: 0.3167 - acc: 0.8810 - val_loss: 0.7324 - val_acc: 0.7082\n",
      "Epoch 15/500\n",
      "   Samples generated =  360   -  Validation( True )\n",
      "1757/2000 [=========================>....] - ETA: 0s - loss: 0.3493 - acc: 0.8606   Samples generated =  1744   -  Validation( False )\n",
      "   Samples generated =  361   -  Validation( True )\n",
      "   Samples generated =  361   -  Validation( True )\n",
      "Epoch 00014: val_acc did not improve\n",
      "3510/2000 [====================================================] - 2s - loss: 0.3680 - acc: 0.8493 - val_loss: 0.7018 - val_acc: 0.7078\n",
      "Epoch 16/500\n",
      "   Samples generated =  350   -  Validation( True )\n",
      "1755/2000 [=========================>....] - ETA: 0s - loss: 0.4669 - acc: 0.8006   Samples generated =  1750   -  Validation( False )\n",
      "   Samples generated =  349   -  Validation( True )\n",
      "   Samples generated =  358   -  Validation( True )\n",
      "Epoch 00015: val_acc did not improve\n",
      "3532/2000 [====================================================] - 1s - loss: 0.4102 - acc: 0.8301 - val_loss: 0.6983 - val_acc: 0.7482\n",
      "Epoch 17/500\n",
      "1744/2000 [=========================>....] - ETA: 0s - loss: 0.3274 - acc: 0.8670   Samples generated =  348   -  Validation( True )\n",
      "   Samples generated =  1759   -  Validation( False )\n",
      "   Samples generated =  344   -  Validation( True )\n",
      "   Samples generated =  360   -  Validation( True )\n",
      "Epoch 00016: val_acc did not improve\n",
      "3494/2000 [====================================================] - 1s - loss: 0.3267 - acc: 0.8741 - val_loss: 0.7167 - val_acc: 0.7301\n",
      "Epoch 18/500\n",
      "   Samples generated =  355   -  Validation( True )\n",
      "1759/2000 [=========================>....] - ETA: 0s - loss: 0.3355 - acc: 0.8664   Samples generated =  1742   -  Validation( False )\n",
      "   Samples generated =  360   -  Validation( True )\n",
      "   Samples generated =  354   -  Validation( True )\n",
      "Epoch 00017: val_acc did not improve\n",
      "3501/2000 [====================================================] - 1s - loss: 0.3594 - acc: 0.8515 - val_loss: 0.6653 - val_acc: 0.7409\n",
      "Epoch 19/500\n",
      "   Samples generated =  354   -  Validation( True )\n",
      "   Samples generated =  1750   -  Validation( False )\n",
      "1750/2000 [=========================>....] - ETA: 0s - loss: 0.3623 - acc: 0.8394   Samples generated =  1757   -  Validation( False )\n",
      "   Samples generated =  357   -  Validation( True )\n",
      "   Samples generated =  368   -  Validation( True )\n",
      "Epoch 00018: val_acc did not improve\n",
      "3507/2000 [====================================================] - 2s - loss: 0.3480 - acc: 0.8586 - val_loss: 0.7771 - val_acc: 0.7131\n",
      "Epoch 20/500\n",
      "   Samples generated =  360   -  Validation( True )\n",
      "   Samples generated =  1770   -  Validation( False )\n",
      "1770/2000 [=========================>....] - ETA: 0s - loss: 0.3593 - acc: 0.8542   Samples generated =  1757   -  Validation( False )\n",
      "   Samples generated =  357   -  Validation( True )\n",
      "   Samples generated =  360   -  Validation( True )\n",
      "Epoch 00019: val_acc did not improve\n",
      "3527/2000 [====================================================] - 2s - loss: 0.4546 - acc: 0.7978 - val_loss: 0.7115 - val_acc: 0.7169\n",
      "Epoch 21/500\n",
      "   Samples generated =  351   -  Validation( True )\n",
      "   Samples generated =  1743   -  Validation( False )\n",
      "1743/2000 [=========================>....] - ETA: 0s - loss: 0.3869 - acc: 0.8285   Samples generated =  1737   -  Validation( False )\n",
      "   Samples generated =  355   -  Validation( True )\n",
      "   Samples generated =  360   -  Validation( True )\n",
      "Epoch 00020: val_acc did not improve\n",
      "3480/2000 [====================================================] - 2s - loss: 0.3750 - acc: 0.8388 - val_loss: 0.7284 - val_acc: 0.7315\n",
      "Epoch 22/500\n",
      "   Samples generated =  359   -  Validation( True )\n",
      "   Samples generated =  1741   -  Validation( False )\n",
      "1741/2000 [=========================>....] - ETA: 0s - loss: 0.3160 - acc: 0.8765   Samples generated =  1737   -  Validation( False )\n",
      "   Samples generated =  359   -  Validation( True )\n",
      "   Samples generated =  347   -  Validation( True )\n",
      "Epoch 00021: val_acc did not improve\n",
      "3478/2000 [====================================================] - 2s - loss: 0.3190 - acc: 0.8795 - val_loss: 0.7405 - val_acc: 0.7210\n",
      "Epoch 23/500\n",
      "   Samples generated =  354   -  Validation( True )\n",
      "   Samples generated =  1756   -  Validation( False )\n",
      "1756/2000 [=========================>....] - ETA: 0s - loss: 0.2926 - acc: 0.8867   Samples generated =  1763   -  Validation( False )\n",
      "   Samples generated =  352   -  Validation( True )\n",
      "   Samples generated =  349   -  Validation( True )\n",
      "Epoch 00022: val_acc did not improve\n",
      "3519/2000 [====================================================] - 2s - loss: 0.3191 - acc: 0.8730 - val_loss: 0.7647 - val_acc: 0.7118\n",
      "Epoch 24/500\n",
      "   Samples generated =  345   -  Validation( True )\n",
      "   Samples generated =  1748   -  Validation( False )\n",
      "1748/2000 [=========================>....] - ETA: 0s - loss: 0.3533 - acc: 0.8598   Samples generated =  1749   -  Validation( False )\n",
      "   Samples generated =  357   -  Validation( True )\n",
      "   Samples generated =  354   -  Validation( True )\n",
      "Epoch 00023: val_acc did not improve\n",
      "3497/2000 [====================================================] - 2s - loss: 0.3737 - acc: 0.8479 - val_loss: 0.7593 - val_acc: 0.7300\n",
      "Epoch 25/500\n",
      "   Samples generated =  344   -  Validation( True )\n",
      "   Samples generated =  1730   -  Validation( False )\n",
      "1730/2000 [========================>.....] - ETA: 0s - loss: 0.3544 - acc: 0.8572   Samples generated =  1764   -  Validation( False )\n",
      "   Samples generated =  359   -  Validation( True )\n",
      "   Samples generated =  358   -  Validation( True )\n",
      "Epoch 00024: val_acc did not improve\n",
      "3494/2000 [====================================================] - 2s - loss: 0.3840 - acc: 0.8389 - val_loss: 0.6914 - val_acc: 0.7434\n",
      "Epoch 26/500\n",
      "   Samples generated =  362   -  Validation( True )\n",
      "   Samples generated =  1742   -  Validation( False )\n",
      "1742/2000 [=========================>....] - ETA: 0s - loss: 0.3534 - acc: 0.8588   Samples generated =  1752   -  Validation( False )\n",
      "   Samples generated =  359   -  Validation( True )\n",
      "   Samples generated =  356   -  Validation( True )\n",
      "Epoch 00025: val_acc did not improve\n",
      "3494/2000 [====================================================] - 2s - loss: 0.3386 - acc: 0.8681 - val_loss: 0.7318 - val_acc: 0.7119\n",
      "Epoch 27/500\n",
      "   Samples generated =  352   -  Validation( True )\n",
      "   Samples generated =  1757   -  Validation( False )\n",
      "1757/2000 [=========================>....] - ETA: 0s - loss: 0.3356 - acc: 0.8702   Samples generated =  1739   -  Validation( False )\n",
      "   Samples generated =  351   -  Validation( True )\n",
      "   Samples generated =  359   -  Validation( True )\n",
      "Epoch 00026: val_acc did not improve\n",
      "3496/2000 [====================================================] - 2s - loss: 0.3349 - acc: 0.8678 - val_loss: 0.7272 - val_acc: 0.6986\n",
      "Epoch 28/500\n",
      "   Samples generated =  358   -  Validation( True )\n",
      "   Samples generated =  1732   -  Validation( False )\n",
      "1732/2000 [========================>.....] - ETA: 0s - loss: 0.3073 - acc: 0.8839   Samples generated =  1756   -  Validation( False )\n",
      "   Samples generated =  351   -  Validation( True )\n",
      "   Samples generated =  356   -  Validation( True )\n",
      "Epoch 00027: val_acc did not improve\n",
      "3488/2000 [====================================================] - 2s - loss: 0.3263 - acc: 0.8690 - val_loss: 0.7808 - val_acc: 0.6591\n",
      "Epoch 29/500\n",
      "   Samples generated =  361   -  Validation( True )\n",
      "   Samples generated =  1750   -  Validation( False )\n",
      "1750/2000 [=========================>....] - ETA: 0s - loss: 0.3837 - acc: 0.8303   Samples generated =  1737   -  Validation( False )\n",
      "   Samples generated =  350   -  Validation( True )\n",
      "   Samples generated =  364   -  Validation( True )\n",
      "Epoch 00028: val_acc did not improve\n",
      "3487/2000 [====================================================] - 2s - loss: 0.3510 - acc: 0.8486 - val_loss: 0.7587 - val_acc: 0.7101\n",
      "Epoch 30/500\n",
      "   Samples generated =  351   -  Validation( True )\n",
      "   Samples generated =  1761   -  Validation( False )\n",
      "1761/2000 [=========================>....] - ETA: 0s - loss: 0.3038 - acc: 0.8910   Samples generated =  1751   -  Validation( False )\n",
      "   Samples generated =  352   -  Validation( True )\n",
      "   Samples generated =  362   -  Validation( True )\n",
      "Epoch 00029: val_acc did not improve\n",
      "3512/2000 [====================================================] - 2s - loss: 0.3286 - acc: 0.8722 - val_loss: 0.7085 - val_acc: 0.6751\n",
      "Epoch 31/500\n",
      "   Samples generated =  353   -  Validation( True )\n",
      "   Samples generated =  1736   -  Validation( False )\n",
      "1736/2000 [=========================>....] - ETA: 0s - loss: 0.4863 - acc: 0.7736   Samples generated =  1761   -  Validation( False )\n",
      "   Samples generated =  352   -  Validation( True )\n",
      "   Samples generated =  350   -  Validation( True )\n",
      "Epoch 00030: val_acc did not improve\n",
      "3497/2000 [====================================================] - 2s - loss: 0.4435 - acc: 0.7941 - val_loss: 0.6555 - val_acc: 0.7279\n",
      "Epoch 32/500\n",
      "   Samples generated =  358   -  Validation( True )\n",
      "   Samples generated =  1747   -  Validation( False )\n",
      "1747/2000 [=========================>....] - ETA: 0s - loss: 0.3737 - acc: 0.8472   Samples generated =  1749   -  Validation( False )\n",
      "   Samples generated =  355   -  Validation( True )\n",
      "   Samples generated =  363   -  Validation( True )\n",
      "Epoch 00031: val_acc did not improve\n",
      "3496/2000 [====================================================] - 2s - loss: 0.3529 - acc: 0.8590 - val_loss: 0.7345 - val_acc: 0.6992\n",
      "Epoch 33/500\n",
      "   Samples generated =  350   -  Validation( True )\n",
      "   Samples generated =  1755   -  Validation( False )\n",
      "1755/2000 [=========================>....] - ETA: 0s - loss: 0.3149 - acc: 0.8832   Samples generated =  1737   -  Validation( False )\n",
      "   Samples generated =  361   -  Validation( True )\n",
      "   Samples generated =  356   -  Validation( True )\n",
      "Epoch 00032: val_acc did not improve\n",
      "3492/2000 [====================================================] - 2s - loss: 0.3233 - acc: 0.8723 - val_loss: 0.7356 - val_acc: 0.6890\n",
      "Epoch 34/500\n",
      "   Samples generated =  354   -  Validation( True )\n",
      "   Samples generated =  1759   -  Validation( False )\n",
      "1759/2000 [=========================>....] - ETA: 0s - loss: 0.3408 - acc: 0.8579   Samples generated =  1752   -  Validation( False )\n",
      "   Samples generated =  357   -  Validation( True )\n",
      "   Samples generated =  357   -  Validation( True )\n",
      "Epoch 00033: val_acc did not improve\n",
      "3511/2000 [====================================================] - 2s - loss: 0.3284 - acc: 0.8661 - val_loss: 0.7557 - val_acc: 0.6905\n",
      "Epoch 35/500\n",
      "   Samples generated =  361   -  Validation( True )\n",
      "   Samples generated =  1749   -  Validation( False )\n",
      "1749/2000 [=========================>....] - ETA: 0s - loss: 0.3444 - acc: 0.8525   Samples generated =  1763   -  Validation( False )\n",
      "   Samples generated =  356   -  Validation( True )\n",
      "   Samples generated =  363   -  Validation( True )\n",
      "Epoch 00034: val_acc did not improve\n",
      "3512/2000 [====================================================] - 2s - loss: 0.3562 - acc: 0.8511 - val_loss: 0.7676 - val_acc: 0.6592\n",
      "Epoch 36/500\n",
      "   Samples generated =  349   -  Validation( True )\n",
      "   Samples generated =  1745   -  Validation( False )\n",
      "1745/2000 [=========================>....] - ETA: 0s - loss: 0.4244 - acc: 0.8126   Samples generated =  1774   -  Validation( False )\n",
      "   Samples generated =  358   -  Validation( True )\n",
      "   Samples generated =  351   -  Validation( True )\n",
      "Epoch 00035: val_acc did not improve\n",
      "3519/2000 [====================================================] - 2s - loss: 0.3870 - acc: 0.8397 - val_loss: 0.6909 - val_acc: 0.7207\n",
      "Epoch 37/500\n",
      "   Samples generated =  345   -  Validation( True )\n",
      "   Samples generated =  1759   -  Validation( False )\n",
      "1759/2000 [=========================>....] - ETA: 0s - loss: 0.3230 - acc: 0.8783   Samples generated =  1778   -  Validation( False )\n",
      "   Samples generated =  355   -  Validation( True )\n",
      "   Samples generated =  355   -  Validation( True )\n",
      "Epoch 00036: val_acc did not improve\n",
      "3537/2000 [=====================================================] - 2s - loss: 0.3187 - acc: 0.8807 - val_loss: 0.7244 - val_acc: 0.7239\n",
      "Epoch 38/500\n",
      "   Samples generated =  363   -  Validation( True )\n",
      "   Samples generated =  1753   -  Validation( False )\n",
      "1753/2000 [=========================>....] - ETA: 0s - loss: 0.2891 - acc: 0.8985   Samples generated =  1743   -  Validation( False )\n",
      "   Samples generated =  361   -  Validation( True )\n",
      "   Samples generated =  354   -  Validation( True )\n",
      "Epoch 00037: val_acc did not improve\n",
      "3496/2000 [====================================================] - 2s - loss: 0.2834 - acc: 0.8996 - val_loss: 0.7154 - val_acc: 0.7091\n",
      "Epoch 39/500\n",
      "   Samples generated =  357   -  Validation( True )\n",
      "   Samples generated =  1732   -  Validation( False )\n",
      "1732/2000 [========================>.....] - ETA: 0s - loss: 0.3967 - acc: 0.8233   Samples generated =  1753   -  Validation( False )\n",
      "   Samples generated =  357   -  Validation( True )\n",
      "   Samples generated =  350   -  Validation( True )\n",
      "Epoch 00038: val_acc did not improve\n",
      "3485/2000 [====================================================] - 2s - loss: 0.3976 - acc: 0.8344 - val_loss: 0.7383 - val_acc: 0.6902\n",
      "Epoch 40/500\n",
      "   Samples generated =  365   -  Validation( True )\n",
      "   Samples generated =  1735   -  Validation( False )\n",
      "1735/2000 [=========================>....] - ETA: 0s - loss: 0.3788 - acc: 0.8398   Samples generated =  1751   -  Validation( False )\n",
      "   Samples generated =  361   -  Validation( True )\n",
      "   Samples generated =  361   -  Validation( True )\n",
      "Epoch 00039: val_acc did not improve\n",
      "3486/2000 [====================================================] - 2s - loss: 0.3448 - acc: 0.8600 - val_loss: 0.7004 - val_acc: 0.7202\n",
      "Epoch 41/500\n",
      "   Samples generated =  358   -  Validation( True )\n",
      "   Samples generated =  1734   -  Validation( False )\n",
      "1734/2000 [=========================>....] - ETA: 0s - loss: 0.3460 - acc: 0.8587   Samples generated =  1760   -  Validation( False )\n",
      "   Samples generated =  358   -  Validation( True )\n",
      "   Samples generated =  363   -  Validation( True )\n",
      "Epoch 00040: val_acc did not improve\n",
      "3494/2000 [====================================================] - 2s - loss: 0.3272 - acc: 0.8703 - val_loss: 0.7445 - val_acc: 0.7004\n",
      "Epoch 42/500\n",
      "   Samples generated =  355   -  Validation( True )\n",
      "   Samples generated =  1747   -  Validation( False )\n",
      "1747/2000 [=========================>....] - ETA: 0s - loss: 0.3874 - acc: 0.8386   Samples generated =  1749   -  Validation( False )\n",
      "   Samples generated =  360   -  Validation( True )\n",
      "   Samples generated =  355   -  Validation( True )\n",
      "Epoch 00041: val_acc did not improve\n",
      "3496/2000 [====================================================] - 2s - loss: 0.3405 - acc: 0.8656 - val_loss: 0.7815 - val_acc: 0.7161\n",
      "Epoch 43/500\n",
      "   Samples generated =  361   -  Validation( True )\n",
      "   Samples generated =  1750   -  Validation( False )\n",
      "1750/2000 [=========================>....] - ETA: 0s - loss: 0.3050 - acc: 0.8891   Samples generated =  1761   -  Validation( False )\n",
      "   Samples generated =  356   -  Validation( True )\n",
      "   Samples generated =  358   -  Validation( True )\n",
      "Epoch 00042: val_acc did not improve\n",
      "3511/2000 [====================================================] - 2s - loss: 0.3468 - acc: 0.8582 - val_loss: 0.7504 - val_acc: 0.7241\n",
      "Epoch 44/500\n",
      "   Samples generated =  362   -  Validation( True )\n",
      "   Samples generated =  1754   -  Validation( False )\n",
      "1754/2000 [=========================>....] - ETA: 0s - loss: 0.3747 - acc: 0.8483   Samples generated =  1754   -  Validation( False )\n",
      "   Samples generated =  356   -  Validation( True )\n",
      "   Samples generated =  356   -  Validation( True )\n",
      "Epoch 00043: val_acc did not improve\n",
      "3508/2000 [====================================================] - 2s - loss: 0.3986 - acc: 0.8241 - val_loss: 0.7233 - val_acc: 0.7416\n",
      "Epoch 45/500\n",
      "   Samples generated =  354   -  Validation( True )\n",
      "   Samples generated =  1756   -  Validation( False )\n",
      "1756/2000 [=========================>....] - ETA: 0s - loss: 0.3269 - acc: 0.8679   Samples generated =  1732   -  Validation( False )\n",
      "   Samples generated =  343   -  Validation( True )\n",
      "   Samples generated =  351   -  Validation( True )\n",
      "Epoch 00044: val_acc did not improve\n",
      "3488/2000 [====================================================] - 2s - loss: 0.3271 - acc: 0.8673 - val_loss: 0.7380 - val_acc: 0.7392\n",
      "Epoch 46/500\n",
      "   Samples generated =  353   -  Validation( True )\n",
      "   Samples generated =  1732   -  Validation( False )\n",
      "1732/2000 [========================>.....] - ETA: 0s - loss: 0.2842 - acc: 0.8967   Samples generated =  1750   -  Validation( False )\n",
      "   Samples generated =  357   -  Validation( True )\n",
      "   Samples generated =  357   -  Validation( True )\n",
      "Epoch 00045: val_acc did not improve\n",
      "3482/2000 [====================================================] - 2s - loss: 0.3211 - acc: 0.8762 - val_loss: 0.7963 - val_acc: 0.7171\n",
      "Epoch 47/500\n",
      "   Samples generated =  351   -  Validation( True )\n",
      "   Samples generated =  1755   -  Validation( False )\n",
      "1755/2000 [=========================>....] - ETA: 0s - loss: 0.2999 - acc: 0.8843   Samples generated =  1744   -  Validation( False )\n",
      "   Samples generated =  356   -  Validation( True )\n",
      "   Samples generated =  359   -  Validation( True )\n",
      "Epoch 00046: val_acc did not improve\n",
      "3499/2000 [====================================================] - 2s - loss: 0.3217 - acc: 0.8740 - val_loss: 0.7522 - val_acc: 0.7273\n",
      "Epoch 48/500\n",
      "   Samples generated =  345   -  Validation( True )\n",
      "   Samples generated =  1756   -  Validation( False )\n",
      "1756/2000 [=========================>....] - ETA: 0s - loss: 0.3476 - acc: 0.8656   Samples generated =  1779   -  Validation( False )\n",
      "   Samples generated =  356   -  Validation( True )\n",
      "   Samples generated =  357   -  Validation( True )\n",
      "Epoch 00047: val_acc did not improve\n",
      "3535/2000 [=====================================================] - 2s - loss: 0.3435 - acc: 0.8628 - val_loss: 0.8215 - val_acc: 0.6985\n",
      "Epoch 49/500\n",
      "   Samples generated =  362   -  Validation( True )\n",
      "   Samples generated =  1757   -  Validation( False )\n",
      "1757/2000 [=========================>....] - ETA: 0s - loss: 0.3148 - acc: 0.8771   Samples generated =  1769   -  Validation( False )\n",
      "   Samples generated =  352   -  Validation( True )\n",
      "   Samples generated =  352   -  Validation( True )\n",
      "Epoch 00048: val_acc did not improve\n",
      "3526/2000 [====================================================] - 2s - loss: 0.3227 - acc: 0.8744 - val_loss: 0.7674 - val_acc: 0.7145\n",
      "Epoch 50/500\n",
      "   Samples generated =  355   -  Validation( True )\n",
      "   Samples generated =  1738   -  Validation( False )\n",
      "1738/2000 [=========================>....] - ETA: 0s - loss: 0.3179 - acc: 0.8682   Samples generated =  1746   -  Validation( False )\n",
      "   Samples generated =  356   -  Validation( True )\n",
      "   Samples generated =  347   -  Validation( True )\n",
      "Epoch 00049: val_acc did not improve\n",
      "3484/2000 [====================================================] - 2s - loss: 0.3385 - acc: 0.8591 - val_loss: 0.7229 - val_acc: 0.6885\n",
      "Epoch 51/500\n",
      "   Samples generated =  355   -  Validation( True )\n",
      "   Samples generated =  1750   -  Validation( False )\n",
      "1750/2000 [=========================>....] - ETA: 0s - loss: 0.3681 - acc: 0.8423   Samples generated =  1763   -  Validation( False )\n",
      "   Samples generated =  359   -  Validation( True )\n",
      "   Samples generated =  351   -  Validation( True )\n",
      "Epoch 00050: val_acc did not improve\n",
      "Epoch 00050: early stopping\n",
      "3513/2000 [====================================================] - 2s - loss: 0.3417 - acc: 0.8614 - val_loss: 0.7689 - val_acc: 0.7169\n",
      "   Samples generated =  360   -  Validation( True )\n",
      "   Samples generated =  1736   -  Validation( False )\n"
     ]
    }
   ],
   "source": [
    "epochs_number = 500\n",
    "history = model.fit_generator(generateXYBatches(validation=False, MAX_WORDS=timesteps), samples_per_epoch=2000, \\\n",
    "            validation_data=generateXYBatches(validation=True,samples=500, MAX_WORDS=timesteps), nb_val_samples=400, \\\n",
    "            nb_epoch=epochs_number, callbacks=[checkpoint, earlyStopping])"
   ]
  },
  {
   "cell_type": "code",
   "execution_count": 51,
   "metadata": {
    "collapsed": false
   },
   "outputs": [
    {
     "data": {
      "image/png": "[encoded data removed]",
      "text/plain": [
       "<matplotlib.figure.Figure at 0x7f51dadefb90>"
      ]
     },
     "metadata": {},
     "output_type": "display_data"
    },
    {
     "data": {
      "image/png": "[encoded data removed]",
      "text/plain": [
       "<matplotlib.figure.Figure at 0x7f51cbed0590>"
      ]
     },
     "metadata": {},
     "output_type": "display_data"
    }
   ],
   "source": [
    "# Print learning history\n",
    "# summarize history for accuracy\n",
    "plt.plot(history.history['acc'])\n",
    "plt.plot(history.history['val_acc'])\n",
    "plt.title('model accuracy')\n",
    "plt.ylabel('accuracy')\n",
    "plt.xlabel('epoch')\n",
    "plt.legend(['train', 'test'], loc='upper left')\n",
    "plt.show()\n",
    "# summarize history for loss\n",
    "plt.plot(history.history['loss'])\n",
    "plt.plot(history.history['val_loss'])\n",
    "plt.title('model loss')\n",
    "plt.ylabel('loss')\n",
    "plt.xlabel('epoch')\n",
    "plt.legend(['train', 'test'], loc='upper left')\n",
    "plt.show()"
   ]
  },
  {
   "cell_type": "code",
   "execution_count": 52,
   "metadata": {
    "collapsed": false
   },
   "outputs": [
    {
     "name": "stdout",
     "output_type": "stream",
     "text": [
      "check-points/Keras-LSTM-w2v_wnet_features.rank-weights-best.hdf5\n"
     ]
    }
   ],
   "source": [
    "#reload best weights\n",
    "model.load_weights(\"check-points/\"+filename+\"-\"+weights)\n",
    "print \"check-points/\"+filename+\"-weights-best.hdf5\""
   ]
  },
  {
   "cell_type": "code",
   "execution_count": 53,
   "metadata": {
    "collapsed": false
   },
   "outputs": [
    {
     "name": "stdout",
     "output_type": "stream",
     "text": [
      "(6156, 50, 300) (6156,)\n"
     ]
    }
   ],
   "source": [
    "#Construct Test dataset \n",
    "test_X1 = []\n",
    "test_X2 = []\n",
    "test_X3 = []\n",
    "test_Y = []           \n",
    "\n",
    "for qa_pair in test_questions_answer_pairs:\n",
    "    q_vect, a_vect, label = getWord2Vect(qa_pair[0],MAX_WORDS=timesteps)\n",
    "    test_X1.append(q_vect)\n",
    "    test_X2.append(a_vect)\n",
    "    test_X3.append(qa_pair[1])\n",
    "    test_Y.append(label)\n",
    "    \n",
    "test_X1 = np.array(test_X1)\n",
    "test_X2 = np.array(test_X2)\n",
    "test_X3 = np.array(test_X3)\n",
    "test_Y = np.array(test_Y)\n",
    "\n",
    "print test_X1.shape, test_Y.shape"
   ]
  },
  {
   "cell_type": "code",
   "execution_count": 54,
   "metadata": {
    "collapsed": false
   },
   "outputs": [
    {
     "name": "stdout",
     "output_type": "stream",
     "text": [
      "6156/6156 [==============================] - 4s     \n",
      "Test loss / test accuracy = 0.1530 / 0.8093\n"
     ]
    }
   ],
   "source": [
    "loss, acc = model.evaluate([test_X1, test_X2, test_X3], test_Y, 50)\n",
    "#loss, acc = model.evaluate(test_X, test_Y, batch_size, show_accuracy=True)\n",
    "print('Test loss / test accuracy = {:.4f} / {:.4f}'.format(loss, acc))"
   ]
  },
  {
   "cell_type": "code",
   "execution_count": 55,
   "metadata": {
    "collapsed": false
   },
   "outputs": [],
   "source": [
    "predictions = model.predict([test_X1, test_X2, test_X3])"
   ]
  },
  {
   "cell_type": "code",
   "execution_count": 56,
   "metadata": {
    "collapsed": false
   },
   "outputs": [
    {
     "name": "stdout",
     "output_type": "stream",
     "text": [
      "[ 1473.4375] [ 0.24401106] 293\n"
     ]
    }
   ],
   "source": [
    "print np.sum(predictions, axis=0), predictions[1234], np.sum(test_Y, axis=0)"
   ]
  },
  {
   "cell_type": "code",
   "execution_count": 57,
   "metadata": {
    "collapsed": false
   },
   "outputs": [
    {
     "name": "stdout",
     "output_type": "stream",
     "text": [
      "[ 1473.4375] [ 0.0528559] 293\n"
     ]
    }
   ],
   "source": [
    "print np.sum(predictions, axis=0), predictions[22], np.sum(test_Y, axis=0)"
   ]
  },
  {
   "cell_type": "code",
   "execution_count": 58,
   "metadata": {
    "collapsed": true
   },
   "outputs": [],
   "source": [
    "def genTrecEvalFile(result, filename):\n",
    "    idx_pred = 0\n",
    "    with open('experiments/'+filename, 'wb') as text_file:\n",
    "        for i, test_q_i in enumerate(questions['test']):\n",
    "            for j, a_j in enumerate(test_q_i.answers):\n",
    "                # 1 --> [1,0]\n",
    "                #label = 1 if (predictions[idx_pred][0]-0.06)>predictions[idx_pred][1] else 0\n",
    "                label = predictions[idx_pred][0]\n",
    "                str_out = str(i + 1) + ' 0 ' + str(j) + ' 0 ' + str(label) + ' 0\\n'\n",
    "                idx_pred += 1\n",
    "                text_file.write(str_out)"
   ]
  },
  {
   "cell_type": "code",
   "execution_count": 59,
   "metadata": {
    "collapsed": false
   },
   "outputs": [
    {
     "name": "stdout",
     "output_type": "stream",
     "text": [
      "Keras-LSTM-w2v_wnet_features.rank\n"
     ]
    }
   ],
   "source": [
    "genTrecEvalFile(predictions, filename)\n",
    "print filename"
   ]
  },
  {
   "cell_type": "code",
   "execution_count": 60,
   "metadata": {
    "collapsed": false
   },
   "outputs": [
    {
     "name": "stdout",
     "output_type": "stream",
     "text": [
      "runid                 \tall\t0\r\n",
      "num_q                 \tall\t237\r\n",
      "num_ret               \tall\t2341\r\n",
      "num_rel               \tall\t283\r\n",
      "num_rel_ret           \tall\t283\r\n",
      "map                   \tall\t0.5302\r\n",
      "gm_map                \tall\t0.4121\r\n",
      "Rprec                 \tall\t0.3277\r\n",
      "bpref                 \tall\t0.3267\r\n",
      "recip_rank            \tall\t0.5482\r\n",
      "iprec_at_recall_0.00  \tall\t0.5519\r\n",
      "iprec_at_recall_0.10  \tall\t0.5519\r\n",
      "iprec_at_recall_0.20  \tall\t0.5519\r\n",
      "iprec_at_recall_0.30  \tall\t0.5455\r\n",
      "iprec_at_recall_0.40  \tall\t0.5379\r\n",
      "iprec_at_recall_0.50  \tall\t0.5379\r\n",
      "iprec_at_recall_0.60  \tall\t0.5196\r\n",
      "iprec_at_recall_0.70  \tall\t0.5196\r\n",
      "iprec_at_recall_0.80  \tall\t0.5195\r\n",
      "iprec_at_recall_0.90  \tall\t0.5195\r\n",
      "iprec_at_recall_1.00  \tall\t0.5195\r\n",
      "P_5                   \tall\t0.1899\r\n",
      "P_10                  \tall\t0.1135\r\n",
      "P_15                  \tall\t0.0779\r\n",
      "P_20                  \tall\t0.0595\r\n",
      "P_30                  \tall\t0.0398\r\n",
      "P_100                 \tall\t0.0119\r\n",
      "P_200                 \tall\t0.0060\r\n",
      "P_500                 \tall\t0.0024\r\n",
      "P_1000                \tall\t0.0012\r\n"
     ]
    }
   ],
   "source": [
    "!/home/aerossom/trec_eval.9.0/trec_eval -c ../datasets/WikiQACorpus/WikiQA-test-filtered.ref experiments/Keras-LSTM-w2v_wnet_features.rank"
   ]
  },
  {
   "cell_type": "code",
   "execution_count": 31,
   "metadata": {
    "collapsed": false
   },
   "outputs": [],
   "source": [
    "#!cat ../passage-retrieval/experiments/lstm-sum.rank "
   ]
  },
  {
   "cell_type": "code",
   "execution_count": null,
   "metadata": {
    "collapsed": true
   },
   "outputs": [],
   "source": []
  },
  {
   "cell_type": "code",
   "execution_count": 3,
   "metadata": {
    "collapsed": false
   },
   "outputs": [
    {
     "name": "stdout",
     "output_type": "stream",
     "text": [
      "/bin/sh: 1: /home/aerossom/trec_eval-9.0/trec_eval: not found\r\n"
     ]
    }
   ],
   "source": [
    "!/home/aerossom/trec_eval-9.0/trec_eval -c ../passage-retrieval/experiments/gold-jakana-test.rank ../passage-retrieval/experiments/keras_lstm_1489277643.rank"
   ]
  },
  {
   "cell_type": "code",
   "execution_count": null,
   "metadata": {
    "collapsed": true
   },
   "outputs": [],
   "source": []
  }
 ],
 "metadata": {
  "kernelspec": {
   "display_name": "Python 2 ARM",
   "language": "python",
   "name": "py2-arm"
  },
  "language_info": {
   "codemirror_mode": {
    "name": "ipython",
    "version": 2
   },
   "file_extension": ".py",
   "mimetype": "text/x-python",
   "name": "python",
   "nbconvert_exporter": "python",
   "pygments_lexer": "ipython2",
   "version": "2.7.12"
  }
 },
 "nbformat": 4,
 "nbformat_minor": 0
}
