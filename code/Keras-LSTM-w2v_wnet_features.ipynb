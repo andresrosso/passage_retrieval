{
 "cells": [
  {
   "cell_type": "code",
   "execution_count": 1,
   "metadata": {
    "collapsed": false
   },
   "outputs": [
    {
     "name": "stderr",
     "output_type": "stream",
     "text": [
      "Using gpu device 0: GeForce GTX TITAN X (CNMeM is disabled, cuDNN 5103)\n",
      "Using Theano backend.\n"
     ]
    }
   ],
   "source": [
    "import wikiqahelper\n",
    "import wordrepresentation\n",
    "import data_stats\n",
    "from wikiqahelper import load_questions_from_file\n",
    "from gensim.parsing.preprocessing import STOPWORDS\n",
    "from gensim.utils import tokenize\n",
    "import numpy as np\n",
    "from keras.engine import Input\n",
    "from keras.layers import LSTM, SimpleRNN, GRU, Dense, Dropout, Activation, Embedding, Input, merge\n",
    "from keras.models import Model, Sequential\n",
    "from keras.callbacks import ModelCheckpoint, EarlyStopping\n",
    "from gensim.models import Doc2Vec\n",
    "from gensim.models import Word2Vec\n",
    "from nltk.corpus import wordnet as wn\n",
    "import matplotlib.pyplot as plt\n",
    "import numpy as np\n",
    "import sys\n",
    "import logging\n",
    "from scipy import spatial\n",
    "%matplotlib inline"
   ]
  },
  {
   "cell_type": "code",
   "execution_count": 2,
   "metadata": {
    "collapsed": true
   },
   "outputs": [],
   "source": [
    "#name used to generate treceval file and checkpoint\n",
    "filename = 'Keras-LSTM-w2v_wnet_features.rank'\n",
    "weights  = 'weights-best-kmf.hdf5'\n",
    "\n",
    "logger = logging.getLogger()\n",
    "logger.setLevel(logging.INFO)"
   ]
  },
  {
   "cell_type": "code",
   "execution_count": 3,
   "metadata": {
    "collapsed": true
   },
   "outputs": [],
   "source": [
    "def load_w2v():\n",
    "    _fname = \"GoogleNews-vectors-negative300.bin\"\n",
    "    w2vModel = Doc2Vec.load_word2vec_format(_fname, binary=True)\n",
    "    return w2vModel "
   ]
  },
  {
   "cell_type": "code",
   "execution_count": 4,
   "metadata": {
    "collapsed": false
   },
   "outputs": [],
   "source": [
    "w2v = load_w2v()"
   ]
  },
  {
   "cell_type": "code",
   "execution_count": 5,
   "metadata": {
    "collapsed": false
   },
   "outputs": [],
   "source": [
    "def word2vectSimilarity(list1, list2, w2v_model):\n",
    "    sum_list1 = np.zeros(300)\n",
    "    sum_list2 = np.zeros(300)\n",
    "    mult_vector = np.ones(300)\n",
    "    for wq in list1:\n",
    "        try:\n",
    "            sum_list1 += w2v_model[wq]\n",
    "        except Exception as e:\n",
    "            logger.debug(\"Word not in word2vect vocabulary \"+wq)\n",
    "    for aq in list2: \n",
    "        try:\n",
    "            sum_list2 += w2v_model[aq]\n",
    "        except Exception as e:\n",
    "            logger.debug(\"Word not in word2vect vocabulary \"+aq)\n",
    "    #print len(sum_list1), len(sum_list2)\n",
    "    #result = spatial.distance.cosine(sum_list1, sum_list2)\n",
    "    #result = np.multiply(sum_list1, sum_list2)\n",
    "    #result = np.concatenate((sum_list1, sum_list2, np.multiply(sum_list1, sum_list2)))\n",
    "    result = np.concatenate((sum_list1, sum_list2))\n",
    "    return result"
   ]
  },
  {
   "cell_type": "code",
   "execution_count": 6,
   "metadata": {
    "collapsed": false
   },
   "outputs": [],
   "source": [
    "#print word2vectSimilarity(['sky','dog','window', 'material'],['the','car','is', 'red'],w2v)"
   ]
  },
  {
   "cell_type": "code",
   "execution_count": 7,
   "metadata": {
    "collapsed": true
   },
   "outputs": [],
   "source": [
    "def buildQAPairs(dataset):\n",
    "    #Construct Question Answer Pairs\n",
    "    questions_answer_pairs = []\n",
    "\n",
    "    for k, test_q_k in enumerate(dataset):\n",
    "        q = test_q_k.question\n",
    "        for i, a_i in enumerate(test_q_k.answers):\n",
    "            is_correct = 1 if i in test_q_k.correct_answer else 0\n",
    "            questions_answer_pairs += [(q, a_i, is_correct)]\n",
    "    return questions_answer_pairs"
   ]
  },
  {
   "cell_type": "code",
   "execution_count": 8,
   "metadata": {
    "collapsed": true
   },
   "outputs": [],
   "source": [
    "def prepoSentence(s):\n",
    "    terms = tokenize(s)\n",
    "    terms = [word for word in terms ]#if word not in STOPWORDS]\n",
    "    return terms\n",
    "    \n",
    "def getWord2Vect(qaPair, MAX_WORDS=50):\n",
    "    question = prepoSentence(qaPair[0])\n",
    "    answer = prepoSentence(qaPair[1])\n",
    "    q_vect = []\n",
    "    a_vect = []\n",
    "    for i in range(MAX_WORDS):\n",
    "        q_vect.append(w2v[question[i]] if len(question)>i and question[i] in w2v else np.zeros(300))\n",
    "        a_vect.append(w2v[answer[i]] if len(answer)>i and answer[i] in w2v else np.zeros(300))\n",
    "    #label = [1,0] if qaPair[2] == 1 else [0,1]\n",
    "    label = qaPair[2]\n",
    "    return q_vect, a_vect, label"
   ]
  },
  {
   "cell_type": "code",
   "execution_count": 9,
   "metadata": {
    "collapsed": false
   },
   "outputs": [],
   "source": [
    "#Construct Training dataset \n",
    "questions = {}\n",
    "questions['train'], vocabulary, idf = load_questions_from_file('train', -1)\n",
    "questions['validate'], vocabulary, idf = load_questions_from_file('validate', -1)\n",
    "questions['test'], vocabulary, idf = load_questions_from_file('test', -1)\n",
    "#Get train qa pairs\n",
    "train_questions_answer_pairs = buildQAPairs(questions['train'])\n",
    "test_questions_answer_pairs = buildQAPairs(questions['test'])\n",
    "validate_questions_answer_pairs = buildQAPairs(questions['validate'])"
   ]
  },
  {
   "cell_type": "code",
   "execution_count": 10,
   "metadata": {
    "collapsed": false
   },
   "outputs": [
    {
     "name": "stdout",
     "output_type": "stream",
     "text": [
      "140\n"
     ]
    }
   ],
   "source": [
    "print sum([1 for qa in validate_questions_answer_pairs if qa[2]==1])"
   ]
  },
  {
   "cell_type": "code",
   "execution_count": 11,
   "metadata": {
    "collapsed": false
   },
   "outputs": [
    {
     "name": "stdout",
     "output_type": "stream",
     "text": [
      "2576\n"
     ]
    }
   ],
   "source": [
    "print sum([1 for qa in validate_questions_answer_pairs if qa[2]==0])"
   ]
  },
  {
   "cell_type": "code",
   "execution_count": 12,
   "metadata": {
    "collapsed": false
   },
   "outputs": [
    {
     "data": {
      "text/plain": [
       "2117"
      ]
     },
     "execution_count": 12,
     "metadata": {},
     "output_type": "execute_result"
    }
   ],
   "source": [
    "len(questions['train'])"
   ]
  },
  {
   "cell_type": "code",
   "execution_count": 13,
   "metadata": {
    "collapsed": false
   },
   "outputs": [
    {
     "data": {
      "text/plain": [
       "(u'how are glacier caves formed ?',\n",
       " u'A partly submerged glacier cave on Perito Moreno Glacier .',\n",
       " 0)"
      ]
     },
     "execution_count": 13,
     "metadata": {},
     "output_type": "execute_result"
    }
   ],
   "source": [
    "train_questions_answer_pairs[0]"
   ]
  },
  {
   "cell_type": "code",
   "execution_count": 14,
   "metadata": {
    "collapsed": false
   },
   "outputs": [
    {
     "data": {
      "text/plain": [
       "\"\\nfor i, p in enumerate(train_questions_answer_pairs):\\n    #p = train_questions_answer_pairs[500]\\n    r = word2vectSimilarity(prepoSentence(p[0]),prepoSentence(p[1]),w2v)\\n    print i, ' ---> ',r,p[2]\\n\""
      ]
     },
     "execution_count": 14,
     "metadata": {},
     "output_type": "execute_result"
    }
   ],
   "source": [
    "'''\n",
    "for i, p in enumerate(train_questions_answer_pairs):\n",
    "    #p = train_questions_answer_pairs[500]\n",
    "    r = word2vectSimilarity(prepoSentence(p[0]),prepoSentence(p[1]),w2v)\n",
    "    print i, ' ---> ',r,p[2]\n",
    "'''\n",
    "#train_questions_answer_pairs[1033]\n",
    "#print word2vectSimilarity(prepoSentence(pair[0]),prepoSentence(pair[0]),w2v)\n",
    "#print word2vectSimilarity(['bicycle'],['bike'],w2v)\n",
    "#pair\n",
    "#print set(prepoSentence(pair[0])) | set(prepoSentence(pair[1])) \n",
    "#len(set(list1) | set(list2))< (len(set(list1))+len(set(list2))):\n",
    "#print word2vectSimilarity(prepoSentence(p[0]),prepoSentence(p[1]),w2v)"
   ]
  },
  {
   "cell_type": "code",
   "execution_count": 15,
   "metadata": {
    "collapsed": false
   },
   "outputs": [],
   "source": [
    "#load w2vect - wnet features\n",
    "train_questions_answer_pairs = [ (list(pair),word2vectSimilarity(prepoSentence(pair[0]),prepoSentence(pair[1]),w2v)) \\\n",
    "                            for i, pair in enumerate(train_questions_answer_pairs) ]\n",
    "test_questions_answer_pairs = [ (list(pair),word2vectSimilarity(prepoSentence(pair[0]),prepoSentence(pair[1]),w2v)) \\\n",
    "                            for i, pair in enumerate(test_questions_answer_pairs) ]\n",
    "validate_questions_answer_pairs = [ (list(pair),word2vectSimilarity(prepoSentence(pair[0]),prepoSentence(pair[1]),w2v)) \\\n",
    "                            for i, pair in enumerate(validate_questions_answer_pairs) ]"
   ]
  },
  {
   "cell_type": "code",
   "execution_count": 16,
   "metadata": {
    "collapsed": false
   },
   "outputs": [],
   "source": [
    "#train_questions_answer_pairs[0]"
   ]
  },
  {
   "cell_type": "code",
   "execution_count": 17,
   "metadata": {
    "collapsed": false
   },
   "outputs": [],
   "source": [
    "q_bins = [ len(prepoSentence(t_qa[0][0])) for t_qa in train_questions_answer_pairs ]\n",
    "a_bins = [ len(prepoSentence(t_qa[0][1])) for t_qa in train_questions_answer_pairs ]"
   ]
  },
  {
   "cell_type": "code",
   "execution_count": 18,
   "metadata": {
    "collapsed": false
   },
   "outputs": [
    {
     "data": {
      "image/png": "[encoded data removed]",
      "text/plain": [
       "<matplotlib.figure.Figure at 0x7f45d8317d50>"
      ]
     },
     "metadata": {},
     "output_type": "display_data"
    }
   ],
   "source": [
    "bins = np.linspace(0, 50, 100)\n",
    "plt.hist(q_bins, bins, alpha=0.5, label='Question lenght (train)')\n",
    "plt.hist(a_bins, bins, alpha=0.5, label='Answer lenght (train)')\n",
    "plt.legend()\n",
    "plt.show()"
   ]
  },
  {
   "cell_type": "code",
   "execution_count": 19,
   "metadata": {
    "collapsed": false
   },
   "outputs": [],
   "source": [
    "def generateXYBatches(validation=False, samples=2200, MAX_WORDS=50):\n",
    "    half_samples = samples/2\n",
    "    positiveSamples = [ q for q in train_questions_answer_pairs if q[0][2]==1 ]\n",
    "    negativeSamples = [ q for q in train_questions_answer_pairs if q[0][2]==0 ]\n",
    "    if validation:\n",
    "        positiveSamples = [ q for q in validate_questions_answer_pairs if q[0][2]==1 ]\n",
    "        negativeSamples = [ q for q in validate_questions_answer_pairs if q[0][2]==0 ]\n",
    "    while 1:\n",
    "        train_X1 = []\n",
    "        train_X2 = []\n",
    "        train_X3 = []\n",
    "        train_Y = []\n",
    "        rand_vector_pos = np.random.randint(0,len(positiveSamples),size=half_samples)\n",
    "        rand_vector_neg = np.random.randint(0,len(negativeSamples),size=half_samples)\n",
    "        X_pos = [ positiveSamples[i] for i in range(len(positiveSamples)) if i in rand_vector_pos]\n",
    "        X_neg = [ negativeSamples[i] for i in range(len(negativeSamples)) if i in rand_vector_neg]\n",
    "        for qa_pair in X_pos:\n",
    "            q_vect, a_vect, label = getWord2Vect(qa_pair[0], MAX_WORDS)\n",
    "            train_X1.append(q_vect)\n",
    "            train_X2.append(a_vect)\n",
    "            train_X3.append(qa_pair[1])\n",
    "            train_Y.append(label)\n",
    "        for qa_pair in X_neg:\n",
    "            q_vect, a_vect, label = getWord2Vect(qa_pair[0], MAX_WORDS)\n",
    "            train_X1.append(q_vect)\n",
    "            train_X2.append(a_vect)\n",
    "            train_X3.append(qa_pair[1])\n",
    "            train_Y.append(label)\n",
    "        train_X1 = np.array(train_X1)\n",
    "        train_X2 = np.array(train_X2)\n",
    "        train_X3 = np.array(train_X3)\n",
    "        #train_X  = np.sum([train_X1,train_X2],axis=0)\n",
    "        train_Y = np.array(train_Y)\n",
    "        #X = X_pos + X_neg\n",
    "        #train_q, train_a, train_l = wikiqa_model.buildWord2VectMatrix(X)\n",
    "        #q_vect, a_vect, label = getWord2Vect(qa_pair)\n",
    "        print \"   Samples generated = \", len(train_X1), '  -  Validation(',validation, ')'\n",
    "        #yield (train_X, train_Y)\n",
    "        yield ([train_X1, train_X2, train_X3], train_Y)"
   ]
  },
  {
   "cell_type": "code",
   "execution_count": 23,
   "metadata": {
    "collapsed": false
   },
   "outputs": [
    {
     "ename": "SyntaxError",
     "evalue": "invalid syntax (<ipython-input-23-f64a6dd81de2>, line 4)",
     "output_type": "error",
     "traceback": [
      "\u001b[0;36m  File \u001b[0;32m\"<ipython-input-23-f64a6dd81de2>\"\u001b[0;36m, line \u001b[0;32m4\u001b[0m\n\u001b[0;31m    print 'MAP = 'y_true, y_pred\u001b[0m\n\u001b[0m                       ^\u001b[0m\n\u001b[0;31mSyntaxError\u001b[0m\u001b[0;31m:\u001b[0m invalid syntax\n"
     ]
    }
   ],
   "source": [
    "import keras.backend as K\n",
    "\n",
    "def mean_avg_prec(y_true, y_pred):\n",
    "    print 'MAP = ', y_true, y_pred\n",
    "    return K.mean(y_pred)\n",
    "\n",
    "\"\"\"\n",
    "Precision is the count of RELEVANT documents in the answer set \n",
    "divided by the count of documents in the answer set \n",
    "indicating the proportion of retrieved documents which are relevant\n",
    "Precision = ∣RelRetrieved∣ / ∣Retrieved∣\n",
    "\"\"\"\n",
    "def m_precision(y_true, y_pred):\n",
    "    print 'MAP = ', y_true, y_pred\n",
    "    return K.mean(y_pred)\n",
    "\n",
    "\"\"\"\n",
    "Recall is the count of relevant documents in the answer set \n",
    "divided by the count of relevant documents in the corpus \n",
    "showing the proportion of relevant documents which have been retrieved\n",
    "Recall = ∣RelRetrieved∣ / ∣Rel in Collection∣\n",
    "\"\"\"\n",
    "def m_recall(y_true, y_pred):\n",
    "    print 'MAP = ', y_true, y_pred\n",
    "    return K.mean(y_pred)"
   ]
  },
  {
   "cell_type": "code",
   "execution_count": 24,
   "metadata": {
    "collapsed": false
   },
   "outputs": [
    {
     "name": "stdout",
     "output_type": "stream",
     "text": [
      "____________________________________________________________________________________________________\n",
      "Layer (type)                     Output Shape          Param #     Connected to                     \n",
      "====================================================================================================\n",
      "input_1 (InputLayer)             (None, 50, 300)       0                                            \n",
      "____________________________________________________________________________________________________\n",
      "input_2 (InputLayer)             (None, 50, 300)       0                                            \n",
      "____________________________________________________________________________________________________\n",
      "lstm_1 (LSTM)                    (None, 64)            93440       input_1[0][0]                    \n",
      "                                                                   input_2[0][0]                    \n",
      "____________________________________________________________________________________________________\n",
      "merge_1 (Merge)                  (None, 128)           0           lstm_1[0][0]                     \n",
      "                                                                   lstm_1[1][0]                     \n",
      "____________________________________________________________________________________________________\n",
      "input_3 (InputLayer)             (None, 600)           0                                            \n",
      "____________________________________________________________________________________________________\n",
      "dense_1 (Dense)                  (None, 32)            4128        merge_1[0][0]                    \n",
      "____________________________________________________________________________________________________\n",
      "dense_2 (Dense)                  (None, 32)            19232       input_3[0][0]                    \n",
      "____________________________________________________________________________________________________\n",
      "merge_2 (Merge)                  (None, 64)            0           dense_1[0][0]                    \n",
      "                                                                   dense_2[0][0]                    \n",
      "____________________________________________________________________________________________________\n",
      "dense_3 (Dense)                  (None, 64)            4160        merge_2[0][0]                    \n",
      "____________________________________________________________________________________________________\n",
      "dropout_1 (Dropout)              (None, 64)            0           dense_3[0][0]                    \n",
      "____________________________________________________________________________________________________\n",
      "dense_4 (Dense)                  (None, 32)            2080        dropout_1[0][0]                  \n",
      "____________________________________________________________________________________________________\n",
      "dense_5 (Dense)                  (None, 1)             33          dense_4[0][0]                    \n",
      "====================================================================================================\n",
      "Total params: 123073\n",
      "____________________________________________________________________________________________________\n"
     ]
    }
   ],
   "source": [
    "timesteps = 50\n",
    "question_input = Input(shape=(timesteps, 300))\n",
    "answer_input = Input(shape=(timesteps, 300))\n",
    "w2v_cos_distance = Input(shape=(600,))\n",
    "shared_lstm = LSTM(64)\n",
    "encoded_q = shared_lstm(question_input)\n",
    "encoded_a = shared_lstm(answer_input)\n",
    "merged_vector = merge([encoded_q, encoded_a], mode='concat', concat_axis=-1)\n",
    "sim = Dense(32, activation='sigmoid')(merged_vector)\n",
    "sim_w2v = Dense(32, activation='sigmoid')(w2v_cos_distance)\n",
    "merged_vector_2 = merge([sim, sim_w2v], mode='concat', concat_axis=-1)\n",
    "sim2 = Dense(64, activation='sigmoid')(merged_vector_2)\n",
    "drop = Dropout(0.2)(sim2)\n",
    "sim3 = Dense(32, activation='sigmoid')(drop)\n",
    "predictions = Dense(1, activation='sigmoid')(sim3)\n",
    "\n",
    "# If it is necessary to load the best pretrained weights\n",
    "# model.load_weights(\"check-points/\"+filename+\"-weights-best.hdf5\")\n",
    "\n",
    "model = Model(input=[question_input, answer_input,w2v_cos_distance], output=predictions)\n",
    "\n",
    "model.compile(optimizer='rmsprop',\n",
    "              loss=\"binary_crossentropy\",# kullback_leibler_divergence mean_squared_error\n",
    "              metrics=['accuracy', mean_avg_prec])\n",
    "\n",
    "model.summary()"
   ]
  },
  {
   "cell_type": "code",
   "execution_count": 25,
   "metadata": {
    "collapsed": false
   },
   "outputs": [
    {
     "data": {
      "image/svg+xml": [
       "<svg height=\"638pt\" viewBox=\"0.00 0.00 352.00 638.00\" width=\"352pt\" xmlns=\"http://www.w3.org/2000/svg\" xmlns:xlink=\"http://www.w3.org/1999/xlink\">\n",
       "<g class=\"graph\" id=\"graph0\" transform=\"scale(1 1) rotate(0) translate(4 634)\">\n",
       "<title>G</title>\n",
       "<polygon fill=\"white\" points=\"-4,4 -4,-634 348,-634 348,4 -4,4\" stroke=\"none\"/>\n",
       "<!-- 139931312821136 -->\n",
       "<g class=\"node\" id=\"node1\"><title>139931312821136</title>\n",
       "<polygon fill=\"none\" points=\"-0.5,-593 -0.5,-629 130.5,-629 130.5,-593 -0.5,-593\" stroke=\"black\"/>\n",
       "<text font-family=\"Times,serif\" font-size=\"14.00\" text-anchor=\"middle\" x=\"65\" y=\"-607.3\">input_1 (InputLayer)</text>\n",
       "</g>\n",
       "<!-- 139931310406544 -->\n",
       "<g class=\"node\" id=\"node3\"><title>139931310406544</title>\n",
       "<polygon fill=\"none\" points=\"87,-519 87,-555 191,-555 191,-519 87,-519\" stroke=\"black\"/>\n",
       "<text font-family=\"Times,serif\" font-size=\"14.00\" text-anchor=\"middle\" x=\"139\" y=\"-533.3\">lstm_1 (LSTM)</text>\n",
       "</g>\n",
       "<!-- 139931312821136&#45;&gt;139931310406544 -->\n",
       "<g class=\"edge\" id=\"edge1\"><title>139931312821136-&gt;139931310406544</title>\n",
       "<path d=\"M82.537,-592.937C91.9604,-583.768 103.739,-572.308 114.096,-562.231\" fill=\"none\" stroke=\"black\"/>\n",
       "<polygon fill=\"black\" points=\"116.606,-564.672 121.332,-555.19 111.724,-559.655 116.606,-564.672\" stroke=\"black\"/>\n",
       "</g>\n",
       "<!-- 139931312986192 -->\n",
       "<g class=\"node\" id=\"node2\"><title>139931312986192</title>\n",
       "<polygon fill=\"none\" points=\"148.5,-593 148.5,-629 279.5,-629 279.5,-593 148.5,-593\" stroke=\"black\"/>\n",
       "<text font-family=\"Times,serif\" font-size=\"14.00\" text-anchor=\"middle\" x=\"214\" y=\"-607.3\">input_2 (InputLayer)</text>\n",
       "</g>\n",
       "<!-- 139931312986192&#45;&gt;139931310406544 -->\n",
       "<g class=\"edge\" id=\"edge2\"><title>139931312986192-&gt;139931310406544</title>\n",
       "<path d=\"M196.226,-592.937C186.675,-583.768 174.738,-572.308 164.241,-562.231\" fill=\"none\" stroke=\"black\"/>\n",
       "<polygon fill=\"black\" points=\"166.544,-559.591 156.906,-555.19 161.696,-564.64 166.544,-559.591\" stroke=\"black\"/>\n",
       "</g>\n",
       "<!-- 139931277358288 -->\n",
       "<g class=\"node\" id=\"node4\"><title>139931277358288</title>\n",
       "<polygon fill=\"none\" points=\"82.5,-445 82.5,-481 195.5,-481 195.5,-445 82.5,-445\" stroke=\"black\"/>\n",
       "<text font-family=\"Times,serif\" font-size=\"14.00\" text-anchor=\"middle\" x=\"139\" y=\"-459.3\">merge_1 (Merge)</text>\n",
       "</g>\n",
       "<!-- 139931310406544&#45;&gt;139931277358288 -->\n",
       "<g class=\"edge\" id=\"edge3\"><title>139931310406544-&gt;139931277358288</title>\n",
       "<path d=\"M139,-518.937C139,-510.807 139,-500.876 139,-491.705\" fill=\"none\" stroke=\"black\"/>\n",
       "<polygon fill=\"black\" points=\"142.5,-491.441 139,-481.441 135.5,-491.441 142.5,-491.441\" stroke=\"black\"/>\n",
       "</g>\n",
       "<!-- 139931276417168 -->\n",
       "<g class=\"node\" id=\"node6\"><title>139931276417168</title>\n",
       "<polygon fill=\"none\" points=\"92.5,-371 92.5,-407 199.5,-407 199.5,-371 92.5,-371\" stroke=\"black\"/>\n",
       "<text font-family=\"Times,serif\" font-size=\"14.00\" text-anchor=\"middle\" x=\"146\" y=\"-385.3\">dense_1 (Dense)</text>\n",
       "</g>\n",
       "<!-- 139931277358288&#45;&gt;139931276417168 -->\n",
       "<g class=\"edge\" id=\"edge5\"><title>139931277358288-&gt;139931276417168</title>\n",
       "<path d=\"M140.659,-444.937C141.458,-436.719 142.436,-426.66 143.336,-417.406\" fill=\"none\" stroke=\"black\"/>\n",
       "<polygon fill=\"black\" points=\"146.82,-417.732 144.304,-407.441 139.853,-417.055 146.82,-417.732\" stroke=\"black\"/>\n",
       "</g>\n",
       "<!-- 139931310406224 -->\n",
       "<g class=\"node\" id=\"node5\"><title>139931310406224</title>\n",
       "<polygon fill=\"none\" points=\"213.5,-445 213.5,-481 344.5,-481 344.5,-445 213.5,-445\" stroke=\"black\"/>\n",
       "<text font-family=\"Times,serif\" font-size=\"14.00\" text-anchor=\"middle\" x=\"279\" y=\"-459.3\">input_3 (InputLayer)</text>\n",
       "</g>\n",
       "<!-- 139931276417616 -->\n",
       "<g class=\"node\" id=\"node7\"><title>139931276417616</title>\n",
       "<polygon fill=\"none\" points=\"221.5,-371 221.5,-407 328.5,-407 328.5,-371 221.5,-371\" stroke=\"black\"/>\n",
       "<text font-family=\"Times,serif\" font-size=\"14.00\" text-anchor=\"middle\" x=\"275\" y=\"-385.3\">dense_2 (Dense)</text>\n",
       "</g>\n",
       "<!-- 139931310406224&#45;&gt;139931276417616 -->\n",
       "<g class=\"edge\" id=\"edge6\"><title>139931310406224-&gt;139931276417616</title>\n",
       "<path d=\"M278.052,-444.937C277.6,-436.807 277.049,-426.876 276.539,-417.705\" fill=\"none\" stroke=\"black\"/>\n",
       "<polygon fill=\"black\" points=\"280.018,-417.231 275.969,-407.441 273.029,-417.619 280.018,-417.231\" stroke=\"black\"/>\n",
       "</g>\n",
       "<!-- 139931276495696 -->\n",
       "<g class=\"node\" id=\"node8\"><title>139931276495696</title>\n",
       "<polygon fill=\"none\" points=\"153.5,-297 153.5,-333 266.5,-333 266.5,-297 153.5,-297\" stroke=\"black\"/>\n",
       "<text font-family=\"Times,serif\" font-size=\"14.00\" text-anchor=\"middle\" x=\"210\" y=\"-311.3\">merge_2 (Merge)</text>\n",
       "</g>\n",
       "<!-- 139931276417168&#45;&gt;139931276495696 -->\n",
       "<g class=\"edge\" id=\"edge7\"><title>139931276417168-&gt;139931276495696</title>\n",
       "<path d=\"M161.167,-370.937C169.101,-362.012 178.964,-350.916 187.745,-341.037\" fill=\"none\" stroke=\"black\"/>\n",
       "<polygon fill=\"black\" points=\"190.469,-343.24 194.497,-333.441 185.238,-338.59 190.469,-343.24\" stroke=\"black\"/>\n",
       "</g>\n",
       "<!-- 139931276417616&#45;&gt;139931276495696 -->\n",
       "<g class=\"edge\" id=\"edge8\"><title>139931276417616-&gt;139931276495696</title>\n",
       "<path d=\"M259.596,-370.937C251.539,-362.012 241.521,-350.916 232.603,-341.037\" fill=\"none\" stroke=\"black\"/>\n",
       "<polygon fill=\"black\" points=\"235.044,-338.518 225.745,-333.441 229.848,-343.209 235.044,-338.518\" stroke=\"black\"/>\n",
       "</g>\n",
       "<!-- 139931276512464 -->\n",
       "<g class=\"node\" id=\"node9\"><title>139931276512464</title>\n",
       "<polygon fill=\"none\" points=\"156.5,-223 156.5,-259 263.5,-259 263.5,-223 156.5,-223\" stroke=\"black\"/>\n",
       "<text font-family=\"Times,serif\" font-size=\"14.00\" text-anchor=\"middle\" x=\"210\" y=\"-237.3\">dense_3 (Dense)</text>\n",
       "</g>\n",
       "<!-- 139931276495696&#45;&gt;139931276512464 -->\n",
       "<g class=\"edge\" id=\"edge9\"><title>139931276495696-&gt;139931276512464</title>\n",
       "<path d=\"M210,-296.937C210,-288.807 210,-278.876 210,-269.705\" fill=\"none\" stroke=\"black\"/>\n",
       "<polygon fill=\"black\" points=\"213.5,-269.441 210,-259.441 206.5,-269.441 213.5,-269.441\" stroke=\"black\"/>\n",
       "</g>\n",
       "<!-- 139931276512912 -->\n",
       "<g class=\"node\" id=\"node10\"><title>139931276512912</title>\n",
       "<polygon fill=\"none\" points=\"145,-149 145,-185 275,-185 275,-149 145,-149\" stroke=\"black\"/>\n",
       "<text font-family=\"Times,serif\" font-size=\"14.00\" text-anchor=\"middle\" x=\"210\" y=\"-163.3\">dropout_1 (Dropout)</text>\n",
       "</g>\n",
       "<!-- 139931276512464&#45;&gt;139931276512912 -->\n",
       "<g class=\"edge\" id=\"edge10\"><title>139931276512464-&gt;139931276512912</title>\n",
       "<path d=\"M210,-222.937C210,-214.807 210,-204.876 210,-195.705\" fill=\"none\" stroke=\"black\"/>\n",
       "<polygon fill=\"black\" points=\"213.5,-195.441 210,-185.441 206.5,-195.441 213.5,-195.441\" stroke=\"black\"/>\n",
       "</g>\n",
       "<!-- 139931276415696 -->\n",
       "<g class=\"node\" id=\"node11\"><title>139931276415696</title>\n",
       "<polygon fill=\"none\" points=\"156.5,-75 156.5,-111 263.5,-111 263.5,-75 156.5,-75\" stroke=\"black\"/>\n",
       "<text font-family=\"Times,serif\" font-size=\"14.00\" text-anchor=\"middle\" x=\"210\" y=\"-89.3\">dense_4 (Dense)</text>\n",
       "</g>\n",
       "<!-- 139931276512912&#45;&gt;139931276415696 -->\n",
       "<g class=\"edge\" id=\"edge11\"><title>139931276512912-&gt;139931276415696</title>\n",
       "<path d=\"M210,-148.937C210,-140.807 210,-130.876 210,-121.705\" fill=\"none\" stroke=\"black\"/>\n",
       "<polygon fill=\"black\" points=\"213.5,-121.441 210,-111.441 206.5,-121.441 213.5,-121.441\" stroke=\"black\"/>\n",
       "</g>\n",
       "<!-- 139931277116560 -->\n",
       "<g class=\"node\" id=\"node12\"><title>139931277116560</title>\n",
       "<polygon fill=\"none\" points=\"156.5,-1 156.5,-37 263.5,-37 263.5,-1 156.5,-1\" stroke=\"black\"/>\n",
       "<text font-family=\"Times,serif\" font-size=\"14.00\" text-anchor=\"middle\" x=\"210\" y=\"-15.3\">dense_5 (Dense)</text>\n",
       "</g>\n",
       "<!-- 139931276415696&#45;&gt;139931277116560 -->\n",
       "<g class=\"edge\" id=\"edge12\"><title>139931276415696-&gt;139931277116560</title>\n",
       "<path d=\"M210,-74.937C210,-66.8072 210,-56.8761 210,-47.7047\" fill=\"none\" stroke=\"black\"/>\n",
       "<polygon fill=\"black\" points=\"213.5,-47.4406 210,-37.4407 206.5,-47.4407 213.5,-47.4406\" stroke=\"black\"/>\n",
       "</g>\n",
       "</g>\n",
       "</svg>"
      ],
      "text/plain": [
       "<IPython.core.display.SVG object>"
      ]
     },
     "execution_count": 25,
     "metadata": {},
     "output_type": "execute_result"
    }
   ],
   "source": [
    "from IPython.display import SVG\n",
    "from keras.utils.visualize_util import model_to_dot\n",
    "\n",
    "SVG(model_to_dot(model).create(prog='dot', format='svg'))"
   ]
  },
  {
   "cell_type": "code",
   "execution_count": 26,
   "metadata": {
    "collapsed": false
   },
   "outputs": [],
   "source": [
    "# checkpoints\n",
    "filepath=\"check-points/\"+filename+\"-\"+weights\n",
    "#output the model weights each time an improvement is observed during training\n",
    "checkpoint = ModelCheckpoint(filepath, monitor='val_acc', verbose=1, save_best_only=True, mode='max')\n",
    "#stops if the model is not learning at any point\n",
    "earlyStopping=EarlyStopping(monitor='accuracy', patience=50, verbose=1, mode='auto')"
   ]
  },
  {
   "cell_type": "code",
   "execution_count": 27,
   "metadata": {
    "collapsed": false,
    "scrolled": true
   },
   "outputs": [
    {
     "name": "stdout",
     "output_type": "stream",
     "text": [
      "Epoch 1/500\n",
      "   Samples generated =  1763   -  Validation( False )\n",
      "1763/2000 [=========================>....] - ETA: 0s - loss: 0.6690 - acc: 0.6132 - mean_avg_prec: 0.3743   Samples generated =  1751   -  Validation( False )\n"
     ]
    },
    {
     "name": "stderr",
     "output_type": "stream",
     "text": [
      "/home/aerossom/.conda/envs/py2/lib/python2.7/site-packages/keras/engine/training.py:1462: UserWarning: Epoch comprised more than `samples_per_epoch` samples, which might affect learning results. Set `samples_per_epoch` correctly to avoid this warning.\n",
      "  warnings.warn('Epoch comprised more than '\n"
     ]
    },
    {
     "name": "stdout",
     "output_type": "stream",
     "text": [
      "   Samples generated =  356   -  Validation( True )\n",
      "   Samples generated =  359   -  Validation( True )\n",
      "Epoch 00000: val_acc improved from -inf to 0.66993, saving model to check-points/Keras-LSTM-w2v_wnet_features.rank-weights-best-kmf.hdf5\n",
      "3514/2000 [====================================================] - 10s - loss: 0.6712 - acc: 0.6116 - mean_avg_prec: 0.4088 - val_loss: 0.6377 - val_acc: 0.6699 - val_mean_avg_prec: 0.3735"
     ]
    },
    {
     "name": "stderr",
     "output_type": "stream",
     "text": [
      "/home/aerossom/.conda/envs/py2/lib/python2.7/site-packages/keras/callbacks.py:358: RuntimeWarning: Early stopping requires accuracy available!\n",
      "  (self.monitor), RuntimeWarning)\n"
     ]
    },
    {
     "name": "stdout",
     "output_type": "stream",
     "text": [
      "\n",
      "Epoch 2/500\n",
      "   Samples generated =  350   -  Validation( True )\n",
      "   Samples generated =  1773   -  Validation( False )\n",
      "1773/2000 [=========================>....] - ETA: 0s - loss: 0.6685 - acc: 0.6063 - mean_avg_prec: 0.3730   Samples generated =  1719   -  Validation( False )\n",
      "   Samples generated =  355   -  Validation( True )\n",
      "   Samples generated =  350   -  Validation( True )\n",
      "Epoch 00001: val_acc improved from 0.66993 to 0.67943, saving model to check-points/Keras-LSTM-w2v_wnet_features.rank-weights-best-kmf.hdf5\n",
      "3492/2000 [====================================================] - 7s - loss: 0.6669 - acc: 0.6137 - mean_avg_prec: 0.3865 - val_loss: 0.6325 - val_acc: 0.6794 - val_mean_avg_prec: 0.3739\n",
      "Epoch 3/500\n",
      "   Samples generated =  1763   -  Validation( False )\n",
      "   Samples generated =  351   -  Validation( True )\n",
      "1763/2000 [=========================>....] - ETA: 0s - loss: 0.6730 - acc: 0.6058 - mean_avg_prec: 0.3742   Samples generated =  1752   -  Validation( False )\n",
      "   Samples generated =  353   -  Validation( True )\n",
      "   Samples generated =  354   -  Validation( True )\n",
      "Epoch 00002: val_acc did not improve\n",
      "3515/2000 [====================================================] - 7s - loss: 0.6711 - acc: 0.6060 - mean_avg_prec: 0.3865 - val_loss: 0.6421 - val_acc: 0.6648 - val_mean_avg_prec: 0.3909\n",
      "Epoch 4/500\n",
      "   Samples generated =  1744   -  Validation( False )\n",
      "   Samples generated =  352   -  Validation( True )\n",
      "1744/2000 [=========================>....] - ETA: 0s - loss: 0.6639 - acc: 0.6175 - mean_avg_prec: 0.3910   Samples generated =  1732   -  Validation( False )\n",
      "   Samples generated =  354   -  Validation( True )\n",
      "   Samples generated =  353   -  Validation( True )\n",
      "Epoch 00003: val_acc did not improve\n",
      "3476/2000 [====================================================] - 6s - loss: 0.6646 - acc: 0.6165 - mean_avg_prec: 0.3877 - val_loss: 0.6376 - val_acc: 0.6662 - val_mean_avg_prec: 0.3806\n",
      "Epoch 5/500\n",
      "   Samples generated =  1731   -  Validation( False )\n",
      "   Samples generated =  343   -  Validation( True )\n",
      "1731/2000 [========================>.....] - ETA: 0s - loss: 0.6638 - acc: 0.6158 - mean_avg_prec: 0.3821   Samples generated =  1766   -  Validation( False )\n",
      "   Samples generated =  352   -  Validation( True )\n",
      "   Samples generated =  1752   -  Validation( False )\n",
      "   Samples generated =  355   -  Validation( True )\n",
      "Epoch 00004: val_acc did not improve\n",
      "3497/2000 [====================================================] - 7s - loss: 0.6628 - acc: 0.6140 - mean_avg_prec: 0.3848 - val_loss: 0.6312 - val_acc: 0.6775 - val_mean_avg_prec: 0.3839\n",
      "Epoch 6/500\n",
      "   Samples generated =  351   -  Validation( True )\n",
      "1752/2000 [=========================>....] - ETA: 0s - loss: 0.6621 - acc: 0.6102 - mean_avg_prec: 0.3845   Samples generated =  1737   -  Validation( False )\n",
      "   Samples generated =  350   -  Validation( True )\n",
      "   Samples generated =  354   -  Validation( True )\n",
      "   Samples generated =  1745   -  Validation( False )\n",
      "Epoch 00005: val_acc did not improve\n",
      "3489/2000 [====================================================] - 6s - loss: 0.6613 - acc: 0.6128 - mean_avg_prec: 0.3939 - val_loss: 0.6269 - val_acc: 0.6733 - val_mean_avg_prec: 0.3629\n",
      "Epoch 7/500\n",
      "   Samples generated =  348   -  Validation( True )\n",
      "1745/2000 [=========================>....] - ETA: 0s - loss: 0.6620 - acc: 0.6103 - mean_avg_prec: 0.3643   Samples generated =  1745   -  Validation( False )\n",
      "   Samples generated =  348   -  Validation( True )\n",
      "   Samples generated =  357   -  Validation( True )\n",
      "Epoch 00006: val_acc did not improve\n",
      "3490/2000 [====================================================] - 6s - loss: 0.6601 - acc: 0.6106 - mean_avg_prec: 0.3843 - val_loss: 0.6291 - val_acc: 0.6681 - val_mean_avg_prec: 0.3791\n",
      "Epoch 8/500\n",
      "   Samples generated =  1743   -  Validation( False )\n",
      "   Samples generated =  356   -  Validation( True )\n",
      "1743/2000 [=========================>....] - ETA: 0s - loss: 0.6574 - acc: 0.6110 - mean_avg_prec: 0.3817   Samples generated =  1729   -  Validation( False )\n",
      "   Samples generated =  351   -  Validation( True )\n",
      "   Samples generated =  359   -  Validation( True )\n",
      "Epoch 00007: val_acc did not improve\n",
      "3472/2000 [====================================================] - 6s - loss: 0.6544 - acc: 0.6164 - mean_avg_prec: 0.3892 - val_loss: 0.6206 - val_acc: 0.6704 - val_mean_avg_prec: 0.3659\n",
      "Epoch 9/500\n",
      "   Samples generated =  1764   -  Validation( False )\n",
      "   Samples generated =  357   -  Validation( True )\n",
      "1764/2000 [=========================>....] - ETA: 0s - loss: 0.6541 - acc: 0.6094 - mean_avg_prec: 0.3693   Samples generated =  1751   -  Validation( False )\n",
      "   Samples generated =  354   -  Validation( True )\n",
      "   Samples generated =  362   -  Validation( True )\n",
      "Epoch 00008: val_acc did not improve\n",
      "3515/2000 [====================================================] - 7s - loss: 0.6546 - acc: 0.6125 - mean_avg_prec: 0.3844 - val_loss: 0.6205 - val_acc: 0.6662 - val_mean_avg_prec: 0.3745\n",
      "Epoch 10/500\n",
      "   Samples generated =  1740   -  Validation( False )\n",
      "   Samples generated =  347   -  Validation( True )\n",
      "1740/2000 [=========================>....] - ETA: 0s - loss: 0.6473 - acc: 0.6161 - mean_avg_prec: 0.3783   Samples generated =  1738   -  Validation( False )\n",
      "   Samples generated =  1736   -  Validation( False )\n",
      "   Samples generated =  349   -  Validation( True )\n",
      "   Samples generated =  364   -  Validation( True )\n",
      "Epoch 00009: val_acc did not improve\n",
      "3478/2000 [====================================================] - 7s - loss: 0.6466 - acc: 0.6176 - mean_avg_prec: 0.3904 - val_loss: 0.6118 - val_acc: 0.6732 - val_mean_avg_prec: 0.3536\n",
      "Epoch 11/500\n",
      "   Samples generated =  360   -  Validation( True )\n",
      "1736/2000 [=========================>....] - ETA: 0s - loss: 0.6494 - acc: 0.6112 - mean_avg_prec: 0.3566   Samples generated =  1739   -  Validation( False )\n",
      "   Samples generated =  349   -  Validation( True )\n",
      "   Samples generated =  1773   -  Validation( False )\n",
      "   Samples generated =  352   -  Validation( True )\n",
      "Epoch 00010: val_acc did not improve\n",
      "3475/2000 [====================================================] - 5s - loss: 0.6490 - acc: 0.6158 - mean_avg_prec: 0.3903 - val_loss: 0.5998 - val_acc: 0.6776 - val_mean_avg_prec: 0.3522\n",
      "Epoch 12/500\n",
      "   Samples generated =  359   -  Validation( True )\n",
      "1773/2000 [=========================>....] - ETA: 0s - loss: 0.6458 - acc: 0.6091 - mean_avg_prec: 0.3618   Samples generated =  1729   -  Validation( False )\n",
      "   Samples generated =  364   -  Validation( True )\n",
      "   Samples generated =  358   -  Validation( True )\n",
      "Epoch 00011: val_acc did not improve\n",
      "3502/2000 [====================================================] - 6s - loss: 0.6420 - acc: 0.6222 - mean_avg_prec: 0.3875 - val_loss: 0.6075 - val_acc: 0.6634 - val_mean_avg_prec: 0.3561\n",
      "Epoch 13/500\n",
      "   Samples generated =  1756   -  Validation( False )\n",
      "   Samples generated =  356   -  Validation( True )\n",
      "1756/2000 [=========================>....] - ETA: 0s - loss: 0.6378 - acc: 0.6145 - mean_avg_prec: 0.3624   Samples generated =  1725   -  Validation( False )\n",
      "   Samples generated =  1759   -  Validation( False )\n",
      "   Samples generated =  353   -  Validation( True )\n",
      "   Samples generated =  355   -  Validation( True )\n",
      "Epoch 00012: val_acc did not improve\n",
      "3481/2000 [====================================================] - 7s - loss: 0.6366 - acc: 0.6271 - mean_avg_prec: 0.3883 - val_loss: 0.5980 - val_acc: 0.6709 - val_mean_avg_prec: 0.3467\n",
      "Epoch 14/500\n",
      "   Samples generated =  349   -  Validation( True )\n",
      "1759/2000 [=========================>....] - ETA: 0s - loss: 0.6341 - acc: 0.6174 - mean_avg_prec: 0.3512   Samples generated =  1746   -  Validation( False )\n",
      "   Samples generated =  357   -  Validation( True )\n",
      "   Samples generated =  351   -  Validation( True )\n",
      "Epoch 00013: val_acc improved from 0.67943 to 0.68362, saving model to check-points/Keras-LSTM-w2v_wnet_features.rank-weights-best-kmf.hdf5\n",
      "3505/2000 [====================================================] - 6s - loss: 0.6304 - acc: 0.6354 - mean_avg_prec: 0.3780 - val_loss: 0.5948 - val_acc: 0.6836 - val_mean_avg_prec: 0.3678\n",
      "Epoch 15/500\n",
      "   Samples generated =  1747   -  Validation( False )\n",
      "   Samples generated =  355   -  Validation( True )\n",
      "1747/2000 [=========================>....] - ETA: 0s - loss: 0.6218 - acc: 0.6365 - mean_avg_prec: 0.3739   Samples generated =  1758   -  Validation( False )\n",
      "   Samples generated =  348   -  Validation( True )\n"
     ]
    },
    {
     "ename": "KeyboardInterrupt",
     "evalue": "",
     "output_type": "error",
     "traceback": [
      "\u001b[0;31m\u001b[0m",
      "\u001b[0;31mKeyboardInterrupt\u001b[0mTraceback (most recent call last)",
      "\u001b[0;32m<ipython-input-27-f64eca2535b0>\u001b[0m in \u001b[0;36m<module>\u001b[0;34m()\u001b[0m\n\u001b[1;32m      1\u001b[0m \u001b[0mepochs_number\u001b[0m \u001b[0;34m=\u001b[0m \u001b[0;36m500\u001b[0m\u001b[0;34m\u001b[0m\u001b[0m\n\u001b[0;32m----> 2\u001b[0;31m \u001b[0mhistory\u001b[0m \u001b[0;34m=\u001b[0m \u001b[0mmodel\u001b[0m\u001b[0;34m.\u001b[0m\u001b[0mfit_generator\u001b[0m\u001b[0;34m(\u001b[0m\u001b[0mgenerateXYBatches\u001b[0m\u001b[0;34m(\u001b[0m\u001b[0mvalidation\u001b[0m\u001b[0;34m=\u001b[0m\u001b[0mFalse\u001b[0m\u001b[0;34m,\u001b[0m \u001b[0mMAX_WORDS\u001b[0m\u001b[0;34m=\u001b[0m\u001b[0mtimesteps\u001b[0m\u001b[0;34m)\u001b[0m\u001b[0;34m,\u001b[0m \u001b[0msamples_per_epoch\u001b[0m\u001b[0;34m=\u001b[0m\u001b[0;36m2000\u001b[0m\u001b[0;34m,\u001b[0m             \u001b[0mvalidation_data\u001b[0m\u001b[0;34m=\u001b[0m\u001b[0mgenerateXYBatches\u001b[0m\u001b[0;34m(\u001b[0m\u001b[0mvalidation\u001b[0m\u001b[0;34m=\u001b[0m\u001b[0mTrue\u001b[0m\u001b[0;34m,\u001b[0m\u001b[0msamples\u001b[0m\u001b[0;34m=\u001b[0m\u001b[0;36m500\u001b[0m\u001b[0;34m,\u001b[0m \u001b[0mMAX_WORDS\u001b[0m\u001b[0;34m=\u001b[0m\u001b[0mtimesteps\u001b[0m\u001b[0;34m)\u001b[0m\u001b[0;34m,\u001b[0m \u001b[0mnb_val_samples\u001b[0m\u001b[0;34m=\u001b[0m\u001b[0;36m400\u001b[0m\u001b[0;34m,\u001b[0m             \u001b[0mnb_epoch\u001b[0m\u001b[0;34m=\u001b[0m\u001b[0mepochs_number\u001b[0m\u001b[0;34m,\u001b[0m \u001b[0mcallbacks\u001b[0m\u001b[0;34m=\u001b[0m\u001b[0;34m[\u001b[0m\u001b[0mcheckpoint\u001b[0m\u001b[0;34m,\u001b[0m \u001b[0mearlyStopping\u001b[0m\u001b[0;34m]\u001b[0m\u001b[0;34m)\u001b[0m\u001b[0;34m\u001b[0m\u001b[0m\n\u001b[0m",
      "\u001b[0;32m/home/aerossom/.conda/envs/py2/lib/python2.7/site-packages/keras/engine/training.pyc\u001b[0m in \u001b[0;36mfit_generator\u001b[0;34m(self, generator, samples_per_epoch, nb_epoch, verbose, callbacks, validation_data, nb_val_samples, class_weight, max_q_size, nb_worker, pickle_safe)\u001b[0m\n\u001b[1;32m   1469\u001b[0m                         val_outs = self.evaluate_generator(validation_data,\n\u001b[1;32m   1470\u001b[0m                                                            \u001b[0mnb_val_samples\u001b[0m\u001b[0;34m,\u001b[0m\u001b[0;34m\u001b[0m\u001b[0m\n\u001b[0;32m-> 1471\u001b[0;31m                                                            max_q_size=max_q_size)\n\u001b[0m\u001b[1;32m   1472\u001b[0m                     \u001b[0;32melse\u001b[0m\u001b[0;34m:\u001b[0m\u001b[0;34m\u001b[0m\u001b[0m\n\u001b[1;32m   1473\u001b[0m                         \u001b[0;31m# no need for try/except because\u001b[0m\u001b[0;34m\u001b[0m\u001b[0;34m\u001b[0m\u001b[0m\n",
      "\u001b[0;32m/home/aerossom/.conda/envs/py2/lib/python2.7/site-packages/keras/engine/training.pyc\u001b[0m in \u001b[0;36mevaluate_generator\u001b[0;34m(self, generator, val_samples, max_q_size, nb_worker, pickle_safe)\u001b[0m\n\u001b[1;32m   1552\u001b[0m                                 'or (x, y). Found: ' + str(generator_output))\n\u001b[1;32m   1553\u001b[0m             \u001b[0;32mtry\u001b[0m\u001b[0;34m:\u001b[0m\u001b[0;34m\u001b[0m\u001b[0m\n\u001b[0;32m-> 1554\u001b[0;31m                 \u001b[0mouts\u001b[0m \u001b[0;34m=\u001b[0m \u001b[0mself\u001b[0m\u001b[0;34m.\u001b[0m\u001b[0mtest_on_batch\u001b[0m\u001b[0;34m(\u001b[0m\u001b[0mx\u001b[0m\u001b[0;34m,\u001b[0m \u001b[0my\u001b[0m\u001b[0;34m,\u001b[0m \u001b[0msample_weight\u001b[0m\u001b[0;34m=\u001b[0m\u001b[0msample_weight\u001b[0m\u001b[0;34m)\u001b[0m\u001b[0;34m\u001b[0m\u001b[0m\n\u001b[0m\u001b[1;32m   1555\u001b[0m             \u001b[0;32mexcept\u001b[0m\u001b[0;34m:\u001b[0m\u001b[0;34m\u001b[0m\u001b[0m\n\u001b[1;32m   1556\u001b[0m                 \u001b[0m_stop\u001b[0m\u001b[0;34m.\u001b[0m\u001b[0mset\u001b[0m\u001b[0;34m(\u001b[0m\u001b[0;34m)\u001b[0m\u001b[0;34m\u001b[0m\u001b[0m\n",
      "\u001b[0;32m/home/aerossom/.conda/envs/py2/lib/python2.7/site-packages/keras/engine/training.pyc\u001b[0m in \u001b[0;36mtest_on_batch\u001b[0;34m(self, x, y, sample_weight)\u001b[0m\n\u001b[1;32m   1257\u001b[0m             \u001b[0mins\u001b[0m \u001b[0;34m=\u001b[0m \u001b[0mx\u001b[0m \u001b[0;34m+\u001b[0m \u001b[0my\u001b[0m \u001b[0;34m+\u001b[0m \u001b[0msample_weights\u001b[0m\u001b[0;34m\u001b[0m\u001b[0m\n\u001b[1;32m   1258\u001b[0m         \u001b[0mself\u001b[0m\u001b[0;34m.\u001b[0m\u001b[0m_make_test_function\u001b[0m\u001b[0;34m(\u001b[0m\u001b[0;34m)\u001b[0m\u001b[0;34m\u001b[0m\u001b[0m\n\u001b[0;32m-> 1259\u001b[0;31m         \u001b[0moutputs\u001b[0m \u001b[0;34m=\u001b[0m \u001b[0mself\u001b[0m\u001b[0;34m.\u001b[0m\u001b[0mtest_function\u001b[0m\u001b[0;34m(\u001b[0m\u001b[0mins\u001b[0m\u001b[0;34m)\u001b[0m\u001b[0;34m\u001b[0m\u001b[0m\n\u001b[0m\u001b[1;32m   1260\u001b[0m         \u001b[0;32mif\u001b[0m \u001b[0mlen\u001b[0m\u001b[0;34m(\u001b[0m\u001b[0moutputs\u001b[0m\u001b[0;34m)\u001b[0m \u001b[0;34m==\u001b[0m \u001b[0;36m1\u001b[0m\u001b[0;34m:\u001b[0m\u001b[0;34m\u001b[0m\u001b[0m\n\u001b[1;32m   1261\u001b[0m             \u001b[0;32mreturn\u001b[0m \u001b[0moutputs\u001b[0m\u001b[0;34m[\u001b[0m\u001b[0;36m0\u001b[0m\u001b[0;34m]\u001b[0m\u001b[0;34m\u001b[0m\u001b[0m\n",
      "\u001b[0;32m/home/aerossom/.conda/envs/py2/lib/python2.7/site-packages/keras/backend/theano_backend.pyc\u001b[0m in \u001b[0;36m__call__\u001b[0;34m(self, inputs)\u001b[0m\n\u001b[1;32m    715\u001b[0m     \u001b[0;32mdef\u001b[0m \u001b[0m__call__\u001b[0m\u001b[0;34m(\u001b[0m\u001b[0mself\u001b[0m\u001b[0;34m,\u001b[0m \u001b[0minputs\u001b[0m\u001b[0;34m)\u001b[0m\u001b[0;34m:\u001b[0m\u001b[0;34m\u001b[0m\u001b[0m\n\u001b[1;32m    716\u001b[0m         \u001b[0;32massert\u001b[0m \u001b[0mtype\u001b[0m\u001b[0;34m(\u001b[0m\u001b[0minputs\u001b[0m\u001b[0;34m)\u001b[0m \u001b[0;32min\u001b[0m \u001b[0;34m{\u001b[0m\u001b[0mlist\u001b[0m\u001b[0;34m,\u001b[0m \u001b[0mtuple\u001b[0m\u001b[0;34m}\u001b[0m\u001b[0;34m\u001b[0m\u001b[0m\n\u001b[0;32m--> 717\u001b[0;31m         \u001b[0;32mreturn\u001b[0m \u001b[0mself\u001b[0m\u001b[0;34m.\u001b[0m\u001b[0mfunction\u001b[0m\u001b[0;34m(\u001b[0m\u001b[0;34m*\u001b[0m\u001b[0minputs\u001b[0m\u001b[0;34m)\u001b[0m\u001b[0;34m\u001b[0m\u001b[0m\n\u001b[0m\u001b[1;32m    718\u001b[0m \u001b[0;34m\u001b[0m\u001b[0m\n\u001b[1;32m    719\u001b[0m \u001b[0;34m\u001b[0m\u001b[0m\n",
      "\u001b[0;32m/home/aerossom/.conda/envs/py2/lib/python2.7/site-packages/theano/compile/function_module.pyc\u001b[0m in \u001b[0;36m__call__\u001b[0;34m(self, *args, **kwargs)\u001b[0m\n\u001b[1;32m    864\u001b[0m         \u001b[0;32mtry\u001b[0m\u001b[0;34m:\u001b[0m\u001b[0;34m\u001b[0m\u001b[0m\n\u001b[1;32m    865\u001b[0m             \u001b[0moutputs\u001b[0m \u001b[0;34m=\u001b[0m\u001b[0;31m\\\u001b[0m\u001b[0;34m\u001b[0m\u001b[0m\n\u001b[0;32m--> 866\u001b[0;31m                 \u001b[0mself\u001b[0m\u001b[0;34m.\u001b[0m\u001b[0mfn\u001b[0m\u001b[0;34m(\u001b[0m\u001b[0;34m)\u001b[0m \u001b[0;32mif\u001b[0m \u001b[0moutput_subset\u001b[0m \u001b[0;32mis\u001b[0m \u001b[0mNone\u001b[0m \u001b[0;32melse\u001b[0m\u001b[0;31m\\\u001b[0m\u001b[0;34m\u001b[0m\u001b[0m\n\u001b[0m\u001b[1;32m    867\u001b[0m                 \u001b[0mself\u001b[0m\u001b[0;34m.\u001b[0m\u001b[0mfn\u001b[0m\u001b[0;34m(\u001b[0m\u001b[0moutput_subset\u001b[0m\u001b[0;34m=\u001b[0m\u001b[0moutput_subset\u001b[0m\u001b[0;34m)\u001b[0m\u001b[0;34m\u001b[0m\u001b[0m\n\u001b[1;32m    868\u001b[0m         \u001b[0;32mexcept\u001b[0m \u001b[0mException\u001b[0m\u001b[0;34m:\u001b[0m\u001b[0;34m\u001b[0m\u001b[0m\n",
      "\u001b[0;32m/home/aerossom/.conda/envs/py2/lib/python2.7/site-packages/theano/scan_module/scan_op.pyc\u001b[0m in \u001b[0;36mrval\u001b[0;34m(p, i, o, n, allow_gc)\u001b[0m\n\u001b[1;32m    948\u001b[0m         \u001b[0mallow_gc\u001b[0m \u001b[0;34m=\u001b[0m \u001b[0mconfig\u001b[0m\u001b[0;34m.\u001b[0m\u001b[0mallow_gc\u001b[0m \u001b[0;32mand\u001b[0m \u001b[0;32mnot\u001b[0m \u001b[0mself\u001b[0m\u001b[0;34m.\u001b[0m\u001b[0mallow_gc\u001b[0m\u001b[0;34m\u001b[0m\u001b[0m\n\u001b[1;32m    949\u001b[0m \u001b[0;34m\u001b[0m\u001b[0m\n\u001b[0;32m--> 950\u001b[0;31m         def rval(p=p, i=node_input_storage, o=node_output_storage, n=node,\n\u001b[0m\u001b[1;32m    951\u001b[0m                  allow_gc=allow_gc):\n\u001b[1;32m    952\u001b[0m             \u001b[0mr\u001b[0m \u001b[0;34m=\u001b[0m \u001b[0mp\u001b[0m\u001b[0;34m(\u001b[0m\u001b[0mn\u001b[0m\u001b[0;34m,\u001b[0m \u001b[0;34m[\u001b[0m\u001b[0mx\u001b[0m\u001b[0;34m[\u001b[0m\u001b[0;36m0\u001b[0m\u001b[0;34m]\u001b[0m \u001b[0;32mfor\u001b[0m \u001b[0mx\u001b[0m \u001b[0;32min\u001b[0m \u001b[0mi\u001b[0m\u001b[0;34m]\u001b[0m\u001b[0;34m,\u001b[0m \u001b[0mo\u001b[0m\u001b[0;34m)\u001b[0m\u001b[0;34m\u001b[0m\u001b[0m\n",
      "\u001b[0;31mKeyboardInterrupt\u001b[0m: "
     ]
    }
   ],
   "source": [
    "epochs_number = 500\n",
    "history = model.fit_generator(generateXYBatches(validation=False, MAX_WORDS=timesteps), samples_per_epoch=2000, \\\n",
    "            validation_data=generateXYBatches(validation=True,samples=500, MAX_WORDS=timesteps), nb_val_samples=400, \\\n",
    "            nb_epoch=epochs_number, callbacks=[checkpoint, earlyStopping])"
   ]
  },
  {
   "cell_type": "code",
   "execution_count": 28,
   "metadata": {
    "collapsed": false
   },
   "outputs": [
    {
     "ename": "NameError",
     "evalue": "name 'history' is not defined",
     "output_type": "error",
     "traceback": [
      "\u001b[0;31m\u001b[0m",
      "\u001b[0;31mNameError\u001b[0mTraceback (most recent call last)",
      "\u001b[0;32m<ipython-input-28-d63b94348b32>\u001b[0m in \u001b[0;36m<module>\u001b[0;34m()\u001b[0m\n\u001b[1;32m      1\u001b[0m \u001b[0;31m# Print learning history\u001b[0m\u001b[0;34m\u001b[0m\u001b[0;34m\u001b[0m\u001b[0m\n\u001b[1;32m      2\u001b[0m \u001b[0;31m# summarize history for accuracy\u001b[0m\u001b[0;34m\u001b[0m\u001b[0;34m\u001b[0m\u001b[0m\n\u001b[0;32m----> 3\u001b[0;31m \u001b[0mplt\u001b[0m\u001b[0;34m.\u001b[0m\u001b[0mplot\u001b[0m\u001b[0;34m(\u001b[0m\u001b[0mhistory\u001b[0m\u001b[0;34m.\u001b[0m\u001b[0mhistory\u001b[0m\u001b[0;34m[\u001b[0m\u001b[0;34m'acc'\u001b[0m\u001b[0;34m]\u001b[0m\u001b[0;34m)\u001b[0m\u001b[0;34m\u001b[0m\u001b[0m\n\u001b[0m\u001b[1;32m      4\u001b[0m \u001b[0mplt\u001b[0m\u001b[0;34m.\u001b[0m\u001b[0mplot\u001b[0m\u001b[0;34m(\u001b[0m\u001b[0mhistory\u001b[0m\u001b[0;34m.\u001b[0m\u001b[0mhistory\u001b[0m\u001b[0;34m[\u001b[0m\u001b[0;34m'val_acc'\u001b[0m\u001b[0;34m]\u001b[0m\u001b[0;34m)\u001b[0m\u001b[0;34m\u001b[0m\u001b[0m\n\u001b[1;32m      5\u001b[0m \u001b[0mplt\u001b[0m\u001b[0;34m.\u001b[0m\u001b[0mtitle\u001b[0m\u001b[0;34m(\u001b[0m\u001b[0;34m'model accuracy'\u001b[0m\u001b[0;34m)\u001b[0m\u001b[0;34m\u001b[0m\u001b[0m\n",
      "\u001b[0;31mNameError\u001b[0m: name 'history' is not defined"
     ]
    }
   ],
   "source": [
    "# Print learning history\n",
    "# summarize history for accuracy\n",
    "plt.plot(history.history['acc'])\n",
    "plt.plot(history.history['val_acc'])\n",
    "plt.title('model accuracy')\n",
    "plt.ylabel('accuracy')\n",
    "plt.xlabel('epoch')\n",
    "plt.legend(['train', 'test'], loc='upper left')\n",
    "plt.show()\n",
    "# summarize history for loss\n",
    "plt.plot(history.history['loss'])\n",
    "plt.plot(history.history['val_loss'])\n",
    "plt.title('model loss')\n",
    "plt.ylabel('loss')\n",
    "plt.xlabel('epoch')\n",
    "plt.legend(['train', 'test'], loc='upper left')\n",
    "plt.show()"
   ]
  },
  {
   "cell_type": "code",
   "execution_count": 52,
   "metadata": {
    "collapsed": false
   },
   "outputs": [
    {
     "name": "stdout",
     "output_type": "stream",
     "text": [
      "check-points/Keras-LSTM-w2v_wnet_features.rank-weights-best.hdf5\n"
     ]
    }
   ],
   "source": [
    "#reload best weights\n",
    "model.load_weights(\"check-points/\"+filename+\"-\"+weights)\n",
    "print \"check-points/\"+filename+\"-weights-best.hdf5\""
   ]
  },
  {
   "cell_type": "code",
   "execution_count": 53,
   "metadata": {
    "collapsed": false
   },
   "outputs": [
    {
     "name": "stdout",
     "output_type": "stream",
     "text": [
      "(6156, 50, 300) (6156,)\n"
     ]
    }
   ],
   "source": [
    "#Construct Test dataset \n",
    "test_X1 = []\n",
    "test_X2 = []\n",
    "test_X3 = []\n",
    "test_Y = []           \n",
    "\n",
    "for qa_pair in test_questions_answer_pairs:\n",
    "    q_vect, a_vect, label = getWord2Vect(qa_pair[0],MAX_WORDS=timesteps)\n",
    "    test_X1.append(q_vect)\n",
    "    test_X2.append(a_vect)\n",
    "    test_X3.append(qa_pair[1])\n",
    "    test_Y.append(label)\n",
    "    \n",
    "test_X1 = np.array(test_X1)\n",
    "test_X2 = np.array(test_X2)\n",
    "test_X3 = np.array(test_X3)\n",
    "test_Y = np.array(test_Y)\n",
    "\n",
    "print test_X1.shape, test_Y.shape"
   ]
  },
  {
   "cell_type": "code",
   "execution_count": 54,
   "metadata": {
    "collapsed": false
   },
   "outputs": [
    {
     "name": "stdout",
     "output_type": "stream",
     "text": [
      "6156/6156 [==============================] - 4s     \n",
      "Test loss / test accuracy = 0.1530 / 0.8093\n"
     ]
    }
   ],
   "source": [
    "loss, acc = model.evaluate([test_X1, test_X2, test_X3], test_Y, 50)\n",
    "#loss, acc = model.evaluate(test_X, test_Y, batch_size, show_accuracy=True)\n",
    "print('Test loss / test accuracy = {:.4f} / {:.4f}'.format(loss, acc))"
   ]
  },
  {
   "cell_type": "code",
   "execution_count": 55,
   "metadata": {
    "collapsed": false
   },
   "outputs": [],
   "source": [
    "predictions = model.predict([test_X1, test_X2, test_X3])"
   ]
  },
  {
   "cell_type": "code",
   "execution_count": 56,
   "metadata": {
    "collapsed": false
   },
   "outputs": [
    {
     "name": "stdout",
     "output_type": "stream",
     "text": [
      "[ 1473.4375] [ 0.24401106] 293\n"
     ]
    }
   ],
   "source": [
    "print np.sum(predictions, axis=0), predictions[1234], np.sum(test_Y, axis=0)"
   ]
  },
  {
   "cell_type": "code",
   "execution_count": 57,
   "metadata": {
    "collapsed": false
   },
   "outputs": [
    {
     "name": "stdout",
     "output_type": "stream",
     "text": [
      "[ 1473.4375] [ 0.0528559] 293\n"
     ]
    }
   ],
   "source": [
    "print np.sum(predictions, axis=0), predictions[22], np.sum(test_Y, axis=0)"
   ]
  },
  {
   "cell_type": "code",
   "execution_count": 58,
   "metadata": {
    "collapsed": true
   },
   "outputs": [],
   "source": [
    "def genTrecEvalFile(result, filename):\n",
    "    idx_pred = 0\n",
    "    with open('experiments/'+filename, 'wb') as text_file:\n",
    "        for i, test_q_i in enumerate(questions['test']):\n",
    "            for j, a_j in enumerate(test_q_i.answers):\n",
    "                # 1 --> [1,0]\n",
    "                #label = 1 if (predictions[idx_pred][0]-0.06)>predictions[idx_pred][1] else 0\n",
    "                label = predictions[idx_pred][0]\n",
    "                str_out = str(i + 1) + ' 0 ' + str(j) + ' 0 ' + str(label) + ' 0\\n'\n",
    "                idx_pred += 1\n",
    "                text_file.write(str_out)"
   ]
  },
  {
   "cell_type": "code",
   "execution_count": 59,
   "metadata": {
    "collapsed": false
   },
   "outputs": [
    {
     "name": "stdout",
     "output_type": "stream",
     "text": [
      "Keras-LSTM-w2v_wnet_features.rank\n"
     ]
    }
   ],
   "source": [
    "genTrecEvalFile(predictions, filename)\n",
    "print filename"
   ]
  },
  {
   "cell_type": "code",
   "execution_count": 60,
   "metadata": {
    "collapsed": false
   },
   "outputs": [
    {
     "name": "stdout",
     "output_type": "stream",
     "text": [
      "runid                 \tall\t0\r\n",
      "num_q                 \tall\t237\r\n",
      "num_ret               \tall\t2341\r\n",
      "num_rel               \tall\t283\r\n",
      "num_rel_ret           \tall\t283\r\n",
      "map                   \tall\t0.5302\r\n",
      "gm_map                \tall\t0.4121\r\n",
      "Rprec                 \tall\t0.3277\r\n",
      "bpref                 \tall\t0.3267\r\n",
      "recip_rank            \tall\t0.5482\r\n",
      "iprec_at_recall_0.00  \tall\t0.5519\r\n",
      "iprec_at_recall_0.10  \tall\t0.5519\r\n",
      "iprec_at_recall_0.20  \tall\t0.5519\r\n",
      "iprec_at_recall_0.30  \tall\t0.5455\r\n",
      "iprec_at_recall_0.40  \tall\t0.5379\r\n",
      "iprec_at_recall_0.50  \tall\t0.5379\r\n",
      "iprec_at_recall_0.60  \tall\t0.5196\r\n",
      "iprec_at_recall_0.70  \tall\t0.5196\r\n",
      "iprec_at_recall_0.80  \tall\t0.5195\r\n",
      "iprec_at_recall_0.90  \tall\t0.5195\r\n",
      "iprec_at_recall_1.00  \tall\t0.5195\r\n",
      "P_5                   \tall\t0.1899\r\n",
      "P_10                  \tall\t0.1135\r\n",
      "P_15                  \tall\t0.0779\r\n",
      "P_20                  \tall\t0.0595\r\n",
      "P_30                  \tall\t0.0398\r\n",
      "P_100                 \tall\t0.0119\r\n",
      "P_200                 \tall\t0.0060\r\n",
      "P_500                 \tall\t0.0024\r\n",
      "P_1000                \tall\t0.0012\r\n"
     ]
    }
   ],
   "source": [
    "!/home/aerossom/trec_eval.9.0/trec_eval -c ../datasets/WikiQACorpus/WikiQA-test-filtered.ref experiments/Keras-LSTM-w2v_wnet_features.rank"
   ]
  },
  {
   "cell_type": "code",
   "execution_count": 31,
   "metadata": {
    "collapsed": false
   },
   "outputs": [],
   "source": [
    "#!cat ../passage-retrieval/experiments/lstm-sum.rank "
   ]
  },
  {
   "cell_type": "code",
   "execution_count": null,
   "metadata": {
    "collapsed": true
   },
   "outputs": [],
   "source": []
  },
  {
   "cell_type": "code",
   "execution_count": 3,
   "metadata": {
    "collapsed": false
   },
   "outputs": [
    {
     "name": "stdout",
     "output_type": "stream",
     "text": [
      "/bin/sh: 1: /home/aerossom/trec_eval-9.0/trec_eval: not found\r\n"
     ]
    }
   ],
   "source": [
    "!/home/aerossom/trec_eval-9.0/trec_eval -c ../passage-retrieval/experiments/gold-jakana-test.rank ../passage-retrieval/experiments/keras_lstm_1489277643.rank"
   ]
  },
  {
   "cell_type": "code",
   "execution_count": null,
   "metadata": {
    "collapsed": true
   },
   "outputs": [],
   "source": []
  }
 ],
 "metadata": {
  "kernelspec": {
   "display_name": "Python 2 ARM",
   "language": "python",
   "name": "py2-arm"
  },
  "language_info": {
   "codemirror_mode": {
    "name": "ipython",
    "version": 2
   },
   "file_extension": ".py",
   "mimetype": "text/x-python",
   "name": "python",
   "nbconvert_exporter": "python",
   "pygments_lexer": "ipython2",
   "version": "2.7.12"
  }
 },
 "nbformat": 4,
 "nbformat_minor": 0
}
