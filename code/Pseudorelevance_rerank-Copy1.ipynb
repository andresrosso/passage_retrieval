{
 "cells": [
  {
   "cell_type": "code",
   "execution_count": 1,
   "metadata": {
    "collapsed": false
   },
   "outputs": [
    {
     "name": "stderr",
     "output_type": "stream",
     "text": [
      "Using gpu device 0: GeForce GTX TITAN X (CNMeM is disabled, cuDNN 5103)\n",
      "Using Theano backend.\n"
     ]
    }
   ],
   "source": [
    "import QAData\n",
    "from os import listdir\n",
    "from os.path import isfile, join\n",
    "import PassageRetrieval as pr\n",
    "from json2html import *\n",
    "import matplotlib\n",
    "#matplotlib.use('Agg')\n",
    "import pylab as plt\n",
    "import nlp_utils\n",
    "import time\n",
    "import os\n",
    "import json\n",
    "import logging\n",
    "from json_utils import JSONConnector\n",
    "from QAData import DataSetFactory\n",
    "import models\n",
    "from passrtv_models import PassageRetrievalModel\n",
    "from IPython.display import SVG\n",
    "from keras.utils.visualize_util import model_to_dot\n",
    "from keras.layers import Convolution1D, Convolution2D\n",
    "from keras.layers import Input, Embedding, merge, Flatten, SimpleRNN\n",
    "from keras.callbacks import ModelCheckpoint, EarlyStopping\n",
    "from keras.models import Model\n",
    "from keras.models import Sequential\n",
    "from keras.layers import GlobalMaxPooling2D, Activation, Input, Dense, merge, Dropout, LSTM\n",
    "from keras.models import Model\n",
    "from keras.models import Sequential\n",
    "from keras.layers import Convolution1D, Convolution2D, GlobalMaxPooling2D, Activation, Input, Dense, merge, Dropout\n",
    "from keras.layers import Flatten, SimpleRNN\n",
    "from keras.callbacks import ModelCheckpoint, EarlyStopping\n",
    "from keras.callbacks import Callback\n",
    "from itertools import groupby\n",
    "import sys\n",
    "import pickle\n",
    "import nlp_utils\n",
    "import numpy as np\n",
    "import threading\n",
    "import models as models\n",
    "from models import threadsafe_generator\n",
    "from scipy import spatial\n",
    "import nltk\n",
    "from random import shuffle\n",
    "import random"
   ]
  },
  {
   "cell_type": "code",
   "execution_count": 2,
   "metadata": {
    "collapsed": true
   },
   "outputs": [],
   "source": [
    "params = {\n",
    "  \"expriment_id\" : \"keras_convnet_$runid\",\n",
    "  \"dataset_partitions\" : [\"train\",\"validate\",\"test\"],\n",
    "  \"dataset\": \"TrecDataSet\",\n",
    "  \"ground_truth_file\": \"/home/aerossom/passage-retrieval/experiments/gold-jakana-test.rank\",\n",
    "  \"model\" : \"KerasConvNetModel_8\",\n",
    "  \"modeldes\" : \"Convolutional NN with 1d input tensor cosine sim input matrix element wise multiplied by salience matrix\",\n",
    "  \"out_folder\": \"/home/aerossom/passage-retrieval/experiments/\",\n",
    "  \"working_folder\": \"/home/aerossom/passage-retrieval/experiments/working_files/\",\n",
    "  \"trec_eval_path\" : \"/home/aerossom/trec_eval.9.0/trec_eval\",\n",
    "  \"out_rank_file\" : \"keras_convnet_matrixsim_$runid.rank\",\n",
    "  \"word2vect_path\" : \"/home/aerossom/datasets/word2vect/GoogleNews-vectors-negative300.bin\",\n",
    "  \"preprocess_steps\" : [],\n",
    "  \"method_params\" : {\n",
    "                      \"optimizer\": \"rmsprop\",\n",
    "                      \"loss\":\"mean_squared_error\",\n",
    "                      \"monitor\": \"val_loss\",\n",
    "                      \"verbose\" : 1,\n",
    "                      \"positive_rate\": 0.5,\n",
    "            \t\t      \"epochs\": 500,\n",
    "            \t\t      \"batch_size\": 256,\n",
    "            \t\t      \"validation_size\" : 64,\n",
    "            \t\t      \"max_words\" : 40,\n",
    "            \t\t      \"patience\": 50,\n",
    "                      \"convolution_2d\" : {\n",
    "                        \"nb_filter\": 64,\n",
    "                        \"nb_row\": 3,\n",
    "                        \"nb_col\": 3,\n",
    "                        \"subsample\": 1,\n",
    "                        \"border_mode\" : \"valid\",\n",
    "                        \"activation\" : \"relu\"\n",
    "                      },\n",
    "                      \"activation_2nd_Layer\" : \"relu\",\n",
    "                      \"dense_4th_Layer\" : 30,\n",
    "                      \"dropout\" : 0.1,\n",
    "                      \"dense_6th_layer\" : 1,\n",
    "                      \"end_layer_activation\" : \"sigmoid\"\n",
    "\t\t    }\n",
    "}"
   ]
  },
  {
   "cell_type": "code",
   "execution_count": 7,
   "metadata": {
    "collapsed": true
   },
   "outputs": [],
   "source": [
    "logger = logging.getLogger()\n",
    "logger.setLevel(logging.INFO)"
   ]
  },
  {
   "cell_type": "code",
   "execution_count": 8,
   "metadata": {
    "collapsed": false
   },
   "outputs": [],
   "source": [
    "w2v_path = '/home/aerossom/datasets/word2vect/GoogleNews-vectors-negative300.bin'\n",
    "w2v_util = nlp_utils.Word2vectUtils(w2v_path)"
   ]
  },
  {
   "cell_type": "code",
   "execution_count": 117,
   "metadata": {
    "collapsed": false
   },
   "outputs": [],
   "source": [
    "ds = DataSetFactory.loadDataSet('WikiQADataSet')\n",
    "#ds = DataSetFactory.loadDataSet('TrecDataSet_TrainAll')\n",
    "#ds = DataSetFactory.loadDataSet('TrecDataSet')\n",
    "\n",
    "qa_pair = {}\n",
    "qa_pair['train'] = ds.build_qa_pairs(ds.questions['train'])\n",
    "qa_pair['validate'] = ds.build_qa_pairs(ds.questions['validate'])\n",
    "qa_pair['test'] = ds.build_qa_pairs(ds.questions['test'])"
   ]
  },
  {
   "cell_type": "code",
   "execution_count": 118,
   "metadata": {
    "collapsed": false
   },
   "outputs": [],
   "source": [
    "import sys\n",
    "import KerasConvNetModel_9\n",
    "reload(KerasConvNetModel_9)\n",
    "sys.path.append('../')\n",
    "import KerasConvNetModel_9 as model\n",
    "model_params = {\"w2v\": w2v_util, \"runid\":'test_run',  \"params\":params }\n",
    "k_model = model.KerasConvNetModel_9(model_params)\n",
    "salience_weight=1"
   ]
  },
  {
   "cell_type": "code",
   "execution_count": 119,
   "metadata": {
    "collapsed": false
   },
   "outputs": [],
   "source": [
    "#load test data\n",
    "test_qxa, test_l = k_model.buildCosineSimMatrix(qa_pair['test'], ordered_matrix=1, salience_weight=1, max_terms=40)"
   ]
  },
  {
   "cell_type": "code",
   "execution_count": 126,
   "metadata": {
    "collapsed": false
   },
   "outputs": [
    {
     "name": "stdout",
     "output_type": "stream",
     "text": [
      "th\n"
     ]
    }
   ],
   "source": [
    "from keras import models\n",
    "model = models.load_model('/home/aerossom/passage-retrieval/experiments/working_files/keras_convnet_1495780974_best.hdf5')"
   ]
  },
  {
   "cell_type": "code",
   "execution_count": 127,
   "metadata": {
    "collapsed": false
   },
   "outputs": [],
   "source": [
    "from nlp_utils import avg_precision\n",
    "from nlp_utils import reciprocal_rank\n",
    "#Make the first preditions\n",
    "first_predictions = model.predict(np.array(test_qxa))\n",
    "rank_file_1 = 'experiments/rankfile_0.rank'\n",
    "idx_pred = 0\n",
    "rank_text = ''\n",
    "for key,group in groupby(qa_pair['test'], lambda x: x.qi):\n",
    "    for i, qp in enumerate(group):\n",
    "        rank_text += str(qp.qi) + ' 0 ' + str(qp.ai) + ' 0 ' + str(first_predictions[idx_pred][0]) + ' 0\\n'\n",
    "        idx_pred += 1\n",
    "with open(rank_file_1, 'wb') as text_file:\n",
    "    text_file.write(rank_text)"
   ]
  },
  {
   "cell_type": "code",
   "execution_count": 128,
   "metadata": {
    "collapsed": false
   },
   "outputs": [
    {
     "name": "stdout",
     "output_type": "stream",
     "text": [
      "trec_eval: No queries with both results and relevance info\r\n"
     ]
    }
   ],
   "source": [
    "#Trec\n",
    "!/home/aerossom/trec_eval.9.0/trec_eval -c /home/aerossom/passage-retrieval/experiments/gold-jakana-test2.rank \\\n",
    "experiments/rankfile_0.rank"
   ]
  },
  {
   "cell_type": "code",
   "execution_count": 129,
   "metadata": {
    "collapsed": false
   },
   "outputs": [
    {
     "name": "stdout",
     "output_type": "stream",
     "text": [
      "runid                 \tall\t0\r\n",
      "num_q                 \tall\t237\r\n",
      "num_ret               \tall\t2341\r\n",
      "num_rel               \tall\t283\r\n",
      "num_rel_ret           \tall\t283\r\n",
      "map                   \tall\t0.6368\r\n",
      "gm_map                \tall\t0.5246\r\n",
      "Rprec                 \tall\t0.4568\r\n",
      "bpref                 \tall\t0.4559\r\n",
      "recip_rank            \tall\t0.6614\r\n",
      "iprec_at_recall_0.00  \tall\t0.6641\r\n",
      "iprec_at_recall_0.10  \tall\t0.6641\r\n",
      "iprec_at_recall_0.20  \tall\t0.6641\r\n",
      "iprec_at_recall_0.30  \tall\t0.6532\r\n",
      "iprec_at_recall_0.40  \tall\t0.6485\r\n",
      "iprec_at_recall_0.50  \tall\t0.6485\r\n",
      "iprec_at_recall_0.60  \tall\t0.6210\r\n",
      "iprec_at_recall_0.70  \tall\t0.6210\r\n",
      "iprec_at_recall_0.80  \tall\t0.6200\r\n",
      "iprec_at_recall_0.90  \tall\t0.6200\r\n",
      "iprec_at_recall_1.00  \tall\t0.6200\r\n",
      "P_5                   \tall\t0.2017\r\n",
      "P_10                  \tall\t0.1152\r\n",
      "P_15                  \tall\t0.0782\r\n",
      "P_20                  \tall\t0.0595\r\n",
      "P_30                  \tall\t0.0398\r\n",
      "P_100                 \tall\t0.0119\r\n",
      "P_200                 \tall\t0.0060\r\n",
      "P_500                 \tall\t0.0024\r\n",
      "P_1000                \tall\t0.0012\r\n"
     ]
    }
   ],
   "source": [
    "#WikiQA\n",
    "!/home/aerossom/trec_eval.9.0/trec_eval -c /home/aerossom/datasets/WikiQACorpus/WikiQA-test-filtered.ref \\\n",
    "experiments/rankfile_0.rank"
   ]
  },
  {
   "cell_type": "code",
   "execution_count": 130,
   "metadata": {
    "collapsed": true
   },
   "outputs": [],
   "source": [
    "from nltk.corpus import stopwords\n",
    "stop = set(stopwords.words('english'))"
   ]
  },
  {
   "cell_type": "code",
   "execution_count": 131,
   "metadata": {
    "collapsed": false
   },
   "outputs": [],
   "source": [
    "from operator import itemgetter\n",
    "\n",
    "def getMostInformativeTerms(model, w2vutil, base_terms, target_terms, max_terms=40, num_terms=5):\n",
    "    inf_terms = ' '\n",
    "    #q_vect = w2vutil.transform2Word2Vect(base_terms)\n",
    "    #a_vect = w2vutil.transform2Word2Vect(target_terms)\n",
    "    distance = model.composed_similarity(w2vutil.w2v_model, base_terms, target_terms, \\\n",
    "                    wg_wordnet=1, wg_levenshtein=1, maxterms=max_terms)\n",
    "    #spatial.distance.cdist(q_vect[0:max_terms], a_vect[0:max_terms], 'cosine')\n",
    "    for x in range(num_terms):\n",
    "        #Calculate distance matrix\n",
    "        idx = max([(distance[i,j],(i,j)) for i, row in enumerate(distance[:,]) for j, col in enumerate(row)], key=itemgetter(0)) \n",
    "        try:\n",
    "            inf_terms += target_terms[idx[1][1]] + ' '\n",
    "            distance[:,idx[1][1]] = -np.inf\n",
    "        except:\n",
    "            print idx, 'base(',base_terms,') - target(',target_terms,')'\n",
    "            pass\n",
    "        #print inf_terms\n",
    "        #print distance\n",
    "        if x >= len(base_terms)-1:\n",
    "            break\n",
    "    #print inf_terms\n",
    "    new_q_terms = sorted(set(base_terms+inf_terms.split()))\n",
    "    return ' '.join(new_q_terms)"
   ]
  },
  {
   "cell_type": "code",
   "execution_count": 132,
   "metadata": {
    "collapsed": true
   },
   "outputs": [],
   "source": [
    "def removeStop(sentence):\n",
    "    w = ' '.join([word for word in sentence.split() if word not in (stopwords.words('english'))])\n",
    "    return w"
   ]
  },
  {
   "cell_type": "code",
   "execution_count": 133,
   "metadata": {
    "collapsed": true
   },
   "outputs": [],
   "source": [
    "def getNewPairs(k_model,w2v_util, pairs, a_best, q_stop, a_stop, ab_stop, num_words):\n",
    "    second_qapair = []\n",
    "    for pair in pairs:\n",
    "        q_1 = pair.q.split() \n",
    "        answer = pair.a\n",
    "        if q_stop == 1:\n",
    "            q_1 = [word for word in pair.q.split() if word not in (stopwords.words('english'))]\n",
    "        a_1 = a_best.split()\n",
    "        if a_stop == 1:\n",
    "            a_1 = [word for word in a_best.split() if word not in (stopwords.words('english')) ]\n",
    "        if ab_stop == 1:\n",
    "            answer = removeStop(answer)\n",
    "        words = getMostInformativeTerms(k_model,w2v_util, q_1, a_1, 40, num_words)\n",
    "        #print sorted(set(q_1+words.split()))\n",
    "        new_q = ' '.join(sorted(set(q_1+words.split())))\n",
    "        second_qapair += [QAPair(pair.qi, new_q,pair.ai,answer,qp.l)]\n",
    "    return second_qapair"
   ]
  },
  {
   "cell_type": "code",
   "execution_count": null,
   "metadata": {
    "collapsed": false
   },
   "outputs": [
    {
     "name": "stdout",
     "output_type": "stream",
     "text": [
      "6   , Map 1 =  1.0 , Map 2 =  1.0\n",
      "11   , Map 1 =  0.5 , Map 2 =  0.5\n",
      "6   , Map 1 =  0.666666666667 , Map 2 =  0.666666666667\n",
      "5   , Map 1 =  0.75 , Map 2 =  0.75\n",
      "22   , Map 1 =  0.658611111111 , Map 2 =  0.648236567354\n",
      "22   , Map 1 =  0.548842592593 , Map 2 =  0.540197139462\n",
      "17   , Map 1 =  0.470436507937 , Map 2 =  0.463026119539\n",
      "4   , Map 1 =  0.411631944444 , Map 2 =  0.405147854596\n",
      "7   , Map 1 =  0.365895061728 , Map 2 =  0.360131426308\n",
      "8   , Map 1 =  0.429305555556 , Map 2 =  0.424118283677\n",
      "10   , Map 1 =  0.435732323232 , Map 2 =  0.415865106373\n",
      "18   , Map 1 =  0.399421296296 , Map 2 =  0.381209680842\n",
      "7   , Map 1 =  0.368696581197 , Map 2 =  0.351885859239\n",
      "6   , Map 1 =  0.342361111111 , Map 2 =  0.326751155007\n",
      "3   , Map 1 =  0.319537037037 , Map 2 =  0.304967744674\n",
      "14   , Map 1 =  0.299565972222 , Map 2 =  0.285907260632\n",
      "15   , Map 1 =  0.281944444444 , Map 2 =  0.269089186477\n",
      "12   , Map 1 =  0.266280864198 , Map 2 =  0.254139787228\n",
      "20   , Map 1 =  0.252266081871 , Map 2 =  0.240764008953\n",
      "8   , Map 1 =  0.277152777778 , Map 2 =  0.266225808505\n",
      "3   , Map 1 =  0.311574074074 , Map 2 =  0.301167436672\n",
      "16   , Map 1 =  0.306502525253 , Map 2 =  0.292528512783\n",
      "3   , Map 1 =  0.293176328502 , Map 2 =  0.279809881792\n",
      "10   , Map 1 =  0.294849537037 , Map 2 =  0.276484470051\n",
      "4   , Map 1 =  0.283055555556 , Map 2 =  0.265425091249\n",
      "15   , Map 1 =  0.272168803419 , Map 2 =  0.255216433893\n",
      "8   , Map 1 =  0.275977366255 , Map 2 =  0.253480022761\n",
      "6   , Map 1 =  0.278025793651 , Map 2 =  0.25633192671\n",
      "8   , Map 1 =  0.285680076628 , Map 2 =  0.254389446479\n",
      "9   , Map 1 =  0.296990740741 , Map 2 =  0.267338369691\n",
      "15   , Map 1 =  0.287410394265 , Map 2 =  0.258714551314\n",
      "3   , Map 1 =  0.278428819444 , Map 2 =  0.250629721586\n",
      "5   , Map 1 =  0.269991582492 , Map 2 =  0.243034881538\n",
      "7   , Map 1 =  0.262050653595 , Map 2 =  0.235886796786\n",
      "4   , Map 1 =  0.261706349206 , Map 2 =  0.236290031164\n",
      "9   , Map 1 =  0.254436728395 , Map 2 =  0.229726419187\n",
      "5   , Map 1 =  0.24756006006 , Map 2 =  0.223517597047\n",
      "11   , Map 1 =  0.241045321637 , Map 2 =  0.217635555019\n",
      "1   , Map 1 =  0.234864672365 , Map 2 =  0.212055156173\n",
      "7   , Map 1 =  0.228993055556 , Map 2 =  0.206753777268\n",
      "7   , Map 1 =  0.223407859079 , Map 2 =  0.201711002213\n",
      "5   , Map 1 =  0.218088624339 , Map 2 =  0.196908359303\n",
      "12   , Map 1 =  0.213016795866 , Map 2 =  0.192329095133\n",
      "4   , Map 1 =  0.230902777778 , Map 2 =  0.210685252062\n",
      "20   , Map 1 =  0.225771604938 , Map 2 =  0.206003357572\n",
      "14   , Map 1 =  0.22086352657 , Map 2 =  0.201525023712\n",
      "15   , Map 1 =  0.2161643026 , Map 2 =  0.19723725725\n",
      "14   , Map 1 =  0.21166087963 , Map 2 =  0.193128147724\n",
      "3   , Map 1 =  0.227749433107 , Map 2 =  0.209594920219\n",
      "14   , Map 1 =  0.223194444444 , Map 2 =  0.205403021815\n",
      "8   , Map 1 =  0.218818082789 , Map 2 =  0.201375511583\n",
      "4   , Map 1 =  0.233840811966 , Map 2 =  0.216733674822\n",
      "9   , Map 1 =  0.229428721174 , Map 2 =  0.212644360203\n",
      "6   , Map 1 =  0.225180041152 , Map 2 =  0.20870650168\n",
      "9   , Map 1 =  0.221085858586 , Map 2 =  0.204911838013\n",
      "10   , Map 1 =  0.217137896825 , Map 2 =  0.201252698049\n",
      "13   , Map 1 =  0.213328460039 , Map 2 =  0.19772194896\n",
      "12   , Map 1 =  0.209650383142 , Map 2 =  0.19431294984\n",
      "12   , Map 1 =  0.206096986817 , Map 2 =  0.191019510013\n",
      "8   , Map 1 =  0.202662037037 , Map 2 =  0.187835851512\n",
      "21   , Map 1 =  0.206170309654 , Map 2 =  0.19008444411\n",
      "14   , Map 1 =  0.213597670251 , Map 2 =  0.19830888856\n",
      "12   , Map 1 =  0.210207231041 , Map 2 =  0.195161128424\n",
      "17   , Map 1 =  0.214735243056 , Map 2 =  0.199924235793\n",
      "11   , Map 1 =  0.211431623932 , Map 2 =  0.196848478319\n",
      "18   , Map 1 =  0.208228114478 , Map 2 =  0.193865925617\n",
      "5   , Map 1 =  0.210095356551 , Map 2 =  0.195947528718\n",
      "10   , Map 1 =  0.207005718954 , Map 2 =  0.193065947413\n",
      "8   , Map 1 =  0.208836553945 , Map 2 =  0.197514267016\n",
      "12   , Map 1 =  0.205853174603 , Map 2 =  0.19469263463\n",
      "5   , Map 1 =  0.202953834116 , Map 2 =  0.191950484846\n",
      "8   , Map 1 =  0.203607253086 , Map 2 =  0.19391413552\n",
      "1   , Map 1 =  0.200818112633 , Map 2 =  0.191257777499\n",
      "3   , Map 1 =  0.205987237237 , Map 2 =  0.196556095821\n",
      "7   , Map 1 =  0.203240740741 , Map 2 =  0.193935347877\n",
      "4   , Map 1 =  0.213724415205 , Map 2 =  0.20454146172\n",
      "11   , Map 1 =  0.217442279942 , Map 2 =  0.208378585594\n",
      "1   , Map 1 =  0.214654558405 , Map 2 =  0.205707065266\n",
      "17   , Map 1 =  0.211937412096 , Map 2 =  0.203103178364\n",
      "3   , Map 1 =  0.221788194444 , Map 2 =  0.213064388634\n",
      "16   , Map 1 =  0.231395747599 , Map 2 =  0.222779643096\n",
      "8   , Map 1 =  0.228573848238 , Map 2 =  0.22006281818\n",
      "16   , Map 1 =  0.227325970549 , Map 2 =  0.218616278202\n",
      "2   , Map 1 =  0.230572089947 , Map 2 =  0.221966084414\n",
      "7   , Map 1 =  0.227859477124 , Map 2 =  0.219354718715\n",
      "10   , Map 1 =  0.22520994832 , Map 2 =  0.21680408245\n",
      "8   , Map 1 =  0.222621328225 , Map 2 =  0.214312081503\n",
      "8   , Map 1 =  0.220091540404 , Map 2 =  0.21187671694\n",
      "9   , Map 1 =  0.217618601748 , Map 2 =  0.209496079671\n",
      "15   , Map 1 =  0.215200617284 , Map 2 =  0.207168345453\n",
      "6   , Map 1 =  0.223824786325 , Map 2 =  0.215880781217\n",
      "3   , Map 1 =  0.221391908213 , Map 2 =  0.213534250986\n",
      "1   , Map 1 =  0.21901135006 , Map 2 =  0.211238183771\n",
      "17   , Map 1 =  0.21668144208 , Map 2 =  0.20899096905\n",
      "11   , Map 1 =  0.214400584795 , Map 2 =  0.206791064113\n",
      "3   , Map 1 =  0.21216724537 , Map 2 =  0.204636990529\n",
      "5   , Map 1 =  0.213416380298 , Map 2 =  0.205963756949\n",
      "16   , Map 1 =  0.211238662132 , Map 2 =  0.20386208596\n",
      "7   , Map 1 =  0.212471941639 , Map 2 =  0.205169876337\n",
      "2   , Map 1 =  0.210347222222 , Map 2 =  0.203118177574\n",
      "15   , Map 1 =  0.208264576458 , Map 2 =  0.201107106509\n",
      "13   , Map 1 =  0.206222766885 , Map 2 =  0.19913546821\n",
      "5   , Map 1 =  0.213929341963 , Map 2 =  0.206910852014\n",
      "6   , Map 1 =  0.215878739316 , Map 2 =  0.208927734847\n",
      "2   , Map 1 =  0.213822751323 , Map 2 =  0.206937946896\n",
      "23   , Map 1 =  0.211805555556 , Map 2 =  0.204985702114\n",
      "3   , Map 1 =  0.209826064382 , Map 2 =  0.203069947889\n",
      "8   , Map 1 =  0.207883230453 , Map 2 =  0.201189670593\n",
      "2   , Map 1 =  0.205976044852 , Map 2 =  0.199343893799\n",
      "8   , Map 1 =  0.204103535354 , Map 2 =  0.197531676582\n",
      "9   , Map 1 =  0.202264764765 , Map 2 =  0.195752111929\n",
      "16   , Map 1 =  0.200458829365 , Map 2 =  0.194004325215\n",
      "6   , Map 1 =  0.198684857424 , Map 2 =  0.192287472779\n",
      "4   , Map 1 =  0.196942007797 , Map 2 =  0.190600740562\n",
      "7   , Map 1 =  0.195229468599 , Map 2 =  0.188943342818\n",
      "1   , Map 1 =  0.193546455939 , Map 2 =  0.187314520897\n",
      "2   , Map 1 =  0.191892212726 , Map 2 =  0.185713542086\n",
      "2   , Map 1 =  0.190266007533 , Map 2 =  0.184139698509\n",
      "9   , Map 1 =  0.192868814192 , Map 2 =  0.186793986757\n",
      "5   , Map 1 =  0.199594907407 , Map 2 =  0.193570703534\n",
      "4   , Map 1 =  0.202077594123 , Map 2 =  0.196103177058\n",
      "8   , Map 1 =  0.202470400729 , Map 2 =  0.196544954296\n",
      "9   , Map 1 =  0.20082429991 , Map 2 =  0.194947027838\n",
      "10   , Map 1 =  0.207269265233 , Map 2 =  0.201439390517\n",
      "12   , Map 1 =  0.205611111111 , Map 2 =  0.199827875393\n"
     ]
    }
   ],
   "source": [
    "from QAData import QAPair\n",
    "\n",
    "first_map = []\n",
    "second_map = []\n",
    "final_1_predictions = []\n",
    "final_2_predictions = []\n",
    "ids_q = []\n",
    "\n",
    "for key,group in groupby(qa_pair['test'], lambda x: x.qi):\n",
    "    first_qapair = []\n",
    "    for qp in group:\n",
    "        first_qapair.append(qp)\n",
    "    # Get first predictions without rerank\n",
    "    first_qxa, first_l = k_model.buildCosineSimMatrix(first_qapair, ordered_matrix=1, salience_weight=1, max_terms=40)\n",
    "    first_predictions = model.predict(np.array(first_qxa))\n",
    "    first_map.append(avg_precision(first_l, first_predictions))\n",
    "    final_1_predictions.extend(first_predictions)\n",
    "    # Get second preditions taking into account the pseudo relevance feedback\n",
    "    maxq = np.argmax(first_predictions)\n",
    "    #a_1 = ' '.join([word for word in first_qapair[maxq].a.split() ])\n",
    "    #a_1_m = \n",
    "    #a_1 = ' '.join([word for word in first_qapair[maxq].a.split() if word not in (stopwords.words('english'))])\n",
    "    #second_qapair = [ QAPair(qp.qi, \\\n",
    "    #                  getMostInformativeTerms(k_model, w2v_util, removeStop(qp.q).split(), a_1.split(), max_terms=40, num_terms=10),\\\n",
    "    #                  qp.ai, qp.a, qp.l) for qp in first_qapair ]\n",
    "    second_qapair = [ QAPair(qp.qi, \\\n",
    "                      first_qapair[maxq].a,\\\n",
    "                      qp.ai, qp.a, qp.l) for qp in first_qapair ]\n",
    "    #print first_qapair[0].q\n",
    "    #print second_qapair[0].q\n",
    "    second_qxa, second_l = k_model.buildCosineSimMatrix(second_qapair, ordered_matrix=1, salience_weight=1, max_terms=40)\n",
    "    second_predictions = first_predictions + (0.7*model.predict(np.array(second_qxa)))\n",
    "    #second_predictions[maxq] = 1.0\n",
    "    second_map.append(avg_precision(second_l, second_predictions))\n",
    "    final_2_predictions.extend(second_predictions)\n",
    "    map1 = first_map[len(first_map)-1]\n",
    "    map2 = second_map[len(second_map)-1]\n",
    "    #print first_qapair[0].qi, ' l=',sum(first_l), 'map_1: ', first_map[len(first_map)-1] ,' map_2: ', second_map[len(second_map)-1]\n",
    "    #print first_map, second_map\n",
    "    #print 'map1(',map1,') - map2(',map2,\")\"\n",
    "    print len(second_l), '  , Map 1 = ', sum(first_map)/len(first_map), ', Map 2 = ' , sum(second_map)/len(second_map)"
   ]
  },
  {
   "cell_type": "code",
   "execution_count": null,
   "metadata": {
    "collapsed": false
   },
   "outputs": [],
   "source": [
    "rank_file_1 = 'experiments/rankfile_1.rank'\n",
    "idx_pred = 0\n",
    "rank_text = ''\n",
    "for key,group in groupby(qa_pair['test'], lambda x: x.qi):\n",
    "    for i, qp in enumerate(group):\n",
    "        rank_text += str(qp.qi) + ' 0 ' + str(qp.ai) + ' 0 ' + str(final_2_predictions[idx_pred][0]) + ' 0\\n'\n",
    "        idx_pred += 1\n",
    "with open(rank_file_1, 'wb') as text_file:\n",
    "    text_file.write(rank_text)"
   ]
  },
  {
   "cell_type": "code",
   "execution_count": 158,
   "metadata": {
    "collapsed": false
   },
   "outputs": [
    {
     "name": "stdout",
     "output_type": "stream",
     "text": [
      "trec_eval: No queries with both results and relevance info\r\n"
     ]
    }
   ],
   "source": [
    "!/home/aerossom/trec_eval.9.0/trec_eval -c /home/aerossom/passage-retrieval/experiments/gold-jakana-test2.rank experiments/rankfile_1.rank"
   ]
  },
  {
   "cell_type": "code",
   "execution_count": 159,
   "metadata": {
    "collapsed": false
   },
   "outputs": [
    {
     "name": "stdout",
     "output_type": "stream",
     "text": [
      "runid                 \tall\t0\r\n",
      "num_q                 \tall\t237\r\n",
      "num_ret               \tall\t2341\r\n",
      "num_rel               \tall\t283\r\n",
      "num_rel_ret           \tall\t283\r\n",
      "map                   \tall\t0.6349\r\n",
      "gm_map                \tall\t0.5203\r\n",
      "Rprec                 \tall\t0.4589\r\n",
      "bpref                 \tall\t0.4567\r\n",
      "recip_rank            \tall\t0.6572\r\n",
      "iprec_at_recall_0.00  \tall\t0.6598\r\n",
      "iprec_at_recall_0.10  \tall\t0.6598\r\n",
      "iprec_at_recall_0.20  \tall\t0.6598\r\n",
      "iprec_at_recall_0.30  \tall\t0.6494\r\n",
      "iprec_at_recall_0.40  \tall\t0.6446\r\n",
      "iprec_at_recall_0.50  \tall\t0.6446\r\n",
      "iprec_at_recall_0.60  \tall\t0.6209\r\n",
      "iprec_at_recall_0.70  \tall\t0.6209\r\n",
      "iprec_at_recall_0.80  \tall\t0.6203\r\n",
      "iprec_at_recall_0.90  \tall\t0.6203\r\n",
      "iprec_at_recall_1.00  \tall\t0.6203\r\n",
      "P_5                   \tall\t0.2059\r\n",
      "P_10                  \tall\t0.1148\r\n",
      "P_15                  \tall\t0.0782\r\n",
      "P_20                  \tall\t0.0593\r\n",
      "P_30                  \tall\t0.0398\r\n",
      "P_100                 \tall\t0.0119\r\n",
      "P_200                 \tall\t0.0060\r\n",
      "P_500                 \tall\t0.0024\r\n",
      "P_1000                \tall\t0.0012\r\n"
     ]
    }
   ],
   "source": [
    "!/home/aerossom/trec_eval.9.0/trec_eval -c /home/aerossom/datasets/WikiQACorpus/WikiQA-test-filtered.ref \\\n",
    "experiments/rankfile_1.rank"
   ]
  },
  {
   "cell_type": "code",
   "execution_count": null,
   "metadata": {
    "collapsed": true
   },
   "outputs": [],
   "source": []
  },
  {
   "cell_type": "code",
   "execution_count": null,
   "metadata": {
    "collapsed": true
   },
   "outputs": [],
   "source": []
  },
  {
   "cell_type": "code",
   "execution_count": null,
   "metadata": {
    "collapsed": false
   },
   "outputs": [],
   "source": [
    "history"
   ]
  },
  {
   "cell_type": "code",
   "execution_count": 20,
   "metadata": {
    "collapsed": false
   },
   "outputs": [
    {
     "ename": "AttributeError",
     "evalue": "'dict' object has no attribute 'history'",
     "output_type": "error",
     "traceback": [
      "\u001b[0;31m\u001b[0m",
      "\u001b[0;31mAttributeError\u001b[0mTraceback (most recent call last)",
      "\u001b[0;32m<ipython-input-20-f47bb974a617>\u001b[0m in \u001b[0;36m<module>\u001b[0;34m()\u001b[0m\n\u001b[1;32m      2\u001b[0m \u001b[0;31m# Print learning history\u001b[0m\u001b[0;34m\u001b[0m\u001b[0;34m\u001b[0m\u001b[0m\n\u001b[1;32m      3\u001b[0m \u001b[0;31m# summarize history for accuracy\u001b[0m\u001b[0;34m\u001b[0m\u001b[0;34m\u001b[0m\u001b[0m\n\u001b[0;32m----> 4\u001b[0;31m \u001b[0mplt\u001b[0m\u001b[0;34m.\u001b[0m\u001b[0mplot\u001b[0m\u001b[0;34m(\u001b[0m\u001b[0mhistory\u001b[0m\u001b[0;34m.\u001b[0m\u001b[0mhistory\u001b[0m\u001b[0;34m[\u001b[0m\u001b[0;34m'acc'\u001b[0m\u001b[0;34m]\u001b[0m\u001b[0;34m)\u001b[0m\u001b[0;34m\u001b[0m\u001b[0m\n\u001b[0m\u001b[1;32m      5\u001b[0m \u001b[0mplt\u001b[0m\u001b[0;34m.\u001b[0m\u001b[0mplot\u001b[0m\u001b[0;34m(\u001b[0m\u001b[0mhistory\u001b[0m\u001b[0;34m.\u001b[0m\u001b[0mhistory\u001b[0m\u001b[0;34m[\u001b[0m\u001b[0;34m'val_acc'\u001b[0m\u001b[0;34m]\u001b[0m\u001b[0;34m)\u001b[0m\u001b[0;34m\u001b[0m\u001b[0m\n\u001b[1;32m      6\u001b[0m \u001b[0mplt\u001b[0m\u001b[0;34m.\u001b[0m\u001b[0mtitle\u001b[0m\u001b[0;34m(\u001b[0m\u001b[0;34m'model accuracy'\u001b[0m\u001b[0;34m)\u001b[0m\u001b[0;34m\u001b[0m\u001b[0m\n",
      "\u001b[0;31mAttributeError\u001b[0m: 'dict' object has no attribute 'history'"
     ]
    }
   ],
   "source": [
    "%matplotlib inline\n",
    "# Print learning history\n",
    "# summarize history for accuracy\n",
    "plt.plot(history.history['acc'])\n",
    "plt.plot(history.history['val_acc'])\n",
    "plt.title('model accuracy')\n",
    "plt.ylabel('accuracy')\n",
    "plt.xlabel('epoch')\n",
    "plt.legend(['train', 'test'], loc='upper left')\n",
    "plt.show()\n",
    "# summarize history for loss\n",
    "plt.plot(history.history['loss'])\n",
    "plt.plot(history.history['val_loss'])\n",
    "plt.title('model loss')\n",
    "plt.ylabel('loss')\n",
    "plt.xlabel('epoch')\n",
    "plt.legend(['train', 'test'], loc='upper left')\n",
    "plt.show()"
   ]
  },
  {
   "cell_type": "code",
   "execution_count": 17,
   "metadata": {
    "collapsed": false
   },
   "outputs": [
    {
     "data": {
      "text/plain": [
       "{'MAP': [0.50040411122804629, 0.52189223593768197, 0.55762187871781732],\n",
       " 'MRR': [0.5037535065417272, 0.5279446569060693, 0.5645427026029268],\n",
       " 'acc': [0.4765625, 0.4921875, 0.54296875],\n",
       " 'loss': [0.25362694263458252, 0.25330552458763123, 0.24734991788864136],\n",
       " 'val_acc': [0.5, 0.515625, 0.484375],\n",
       " 'val_loss': [0.25115877389907837, 0.24868617951869965, 0.24784004688262939]}"
      ]
     },
     "execution_count": 17,
     "metadata": {},
     "output_type": "execute_result"
    }
   ],
   "source": [
    "history.history"
   ]
  },
  {
   "cell_type": "code",
   "execution_count": 23,
   "metadata": {
    "collapsed": true
   },
   "outputs": [],
   "source": [
    "with open('out_file', 'wb') as output:\n",
    "    pickle.dump(history.history, output, pickle.HIGHEST_PROTOCOL)"
   ]
  },
  {
   "cell_type": "code",
   "execution_count": null,
   "metadata": {
    "collapsed": true
   },
   "outputs": [],
   "source": []
  },
  {
   "cell_type": "code",
   "execution_count": 254,
   "metadata": {
    "collapsed": false
   },
   "outputs": [
    {
     "data": {
      "image/png": "[encoded data removed]",
      "text/plain": [
       "<matplotlib.figure.Figure at 0x7f43b1badc10>"
      ]
     },
     "metadata": {},
     "output_type": "display_data"
    }
   ],
   "source": [
    "import matplotlib.pyplot as plt\n",
    "from matplotlib.dates import date2num\n",
    "import datetime\n",
    "\n",
    "x = [datetime.datetime(2011, 1, 4, 0, 0),\n",
    "     datetime.datetime(2011, 1, 5, 0, 0),\n",
    "     datetime.datetime(2011, 1, 6, 0, 0)]\n",
    "x = date2num(x)\n",
    "\n",
    "y = [4, 9, 2]\n",
    "z=[1,2,3]\n",
    "k=[11,12,13]\n",
    "\n",
    "ax = plt.subplot(111)\n",
    "ax.bar(x-0.2, y,width=0.2,color='b',align='center')\n",
    "ax.bar(x, z,width=0.2,color='g',align='center')\n",
    "ax.bar(x+0.2, k,width=0.2,color='r',align='center')\n",
    "ax.xaxis_date()\n",
    "\n",
    "plt.show()"
   ]
  },
  {
   "cell_type": "code",
   "execution_count": 256,
   "metadata": {
    "collapsed": false
   },
   "outputs": [
    {
     "data": {
      "image/png": "[encoded data removed]",
      "text/plain": [
       "<matplotlib.figure.Figure at 0x7f4399dac810>"
      ]
     },
     "metadata": {},
     "output_type": "display_data"
    }
   ],
   "source": [
    "import numpy as np\n",
    "import matplotlib.pyplot as plt\n",
    "\n",
    "N = 3\n",
    "ind = np.arange(N)  # the x locations for the groups\n",
    "width = 0.27       # the width of the bars\n",
    "\n",
    "fig = plt.figure()\n",
    "ax = fig.add_subplot(111)\n",
    "\n",
    "yvals = [4, 9, 2]\n",
    "rects1 = ax.bar(ind, yvals, width, color='r')\n",
    "zvals = [1,2,3]\n",
    "rects2 = ax.bar(ind+width, zvals, width, color='g')\n",
    "kvals = [11,12,13]\n",
    "rects3 = ax.bar(ind+width*2, kvals, width, color='b')\n",
    "\n",
    "ax.set_ylabel('Scores')\n",
    "ax.set_xticks(ind+width)\n",
    "ax.set_xticklabels( ('WikiQA', 'Trec TRAIN', 'Trec TRAIN ALL') )\n",
    "ax.legend( (rects1[0], rects2[0], rects3[0]), ('y', 'z', 'k') )\n",
    "\n",
    "def autolabel(rects):\n",
    "    for rect in rects:\n",
    "        h = rect.get_height()\n",
    "        ax.text(rect.get_x()+rect.get_width()/2., 1.05*h, '%d'%int(h),\n",
    "                ha='center', va='bottom')\n",
    "\n",
    "autolabel(rects1)\n",
    "autolabel(rects2)\n",
    "autolabel(rects3)\n",
    "\n",
    "plt.show()"
   ]
  },
  {
   "cell_type": "code",
   "execution_count": null,
   "metadata": {
    "collapsed": true
   },
   "outputs": [],
   "source": []
  }
 ],
 "metadata": {
  "kernelspec": {
   "display_name": "Python 2 ARM",
   "language": "python",
   "name": "py2-arm"
  },
  "language_info": {
   "codemirror_mode": {
    "name": "ipython",
    "version": 2
   },
   "file_extension": ".py",
   "mimetype": "text/x-python",
   "name": "python",
   "nbconvert_exporter": "python",
   "pygments_lexer": "ipython2",
   "version": "2.7.12"
  }
 },
 "nbformat": 4,
 "nbformat_minor": 0
}
